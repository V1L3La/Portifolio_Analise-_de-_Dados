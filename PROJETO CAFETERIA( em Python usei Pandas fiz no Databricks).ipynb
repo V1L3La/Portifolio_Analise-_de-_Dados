{
 "cells": [
  {
   "cell_type": "markdown",
   "metadata": {
    "application/vnd.databricks.v1+cell": {
     "cellMetadata": {
      "byteLimit": 2048000,
      "rowLimit": 10000
     },
     "inputWidgets": {},
     "nuid": "d1f343e8-68da-44e2-ac46-6217f3015b81",
     "showTitle": false,
     "tableResultSettingsMap": {},
     "title": ""
    }
   },
   "source": [
    "## PROJETO CAFETERIA\n",
    "![Texto alternativo](https://media2.giphy.com/media/v1.Y2lkPTc5MGI3NjExOWFieXU3c21iamhrN3dxNnQ0ZmtoNnhqOHN4MnFudXNnbGZ2bmgzdSZlcD12MV9pbnRlcm5hbF9naWZfYnlfaWQmY3Q9Zw/BqRp4ALpcDpDGbSpgp/giphy.gif)\n",
    "\n",
    "<!-- Blank -->\n",
    "---\n",
    "\n",
    "#### Entendimento do Negócio\n",
    "\n",
    "A empresa é uma loja de café com vendas diárias de produtos. O objetivo é entender o comportamento dos clientes, identificar padrões e gerar insights acionáveis para melhorar a gestão da loja. \n",
    "\n",
    "#### Problema da empresa (Perguntas a serem respondidas com os dados)\n",
    "\n",
    "**Falta de visibilidade clara sobre:**\n",
    "\n",
    "➤  Quais produtos com maior impacto no faturamento?<br/>\n",
    "➤  Por que certos produtos têm baixa venda?<br/>\n",
    "➤  Classificar os produtos de baixa, média e alta venda.<br/>\n",
    "➤ Quais dias da semana tiveram mais vendas?<br/>\n",
    "➤ O dia que menos vende na semana <br/>\n",
    "➤ Quanto cada cliente gasta em média.\n",
    "\n",
    "\n",
    "\n",
    "**Descrição da da base:** <br/>\n",
    "Um conjunto de dados simulado com transações de vendas em cafés, contendo informações sobre itens vendidos, quantidades, preços, métodos de pagamento, localização e datas.\n",
    "\n",
    "**Colunas da base de dados:**\n",
    "| Colunas       | Descrição |\n",
    "| ------------- | ------------- |\n",
    "| Quantidade  | A quantidade do item comprado. |\n",
    "| Preço por unidade  | O preço de uma única unidade do item. |\n",
    "| Total gasto  | O valor total gasto na transação. |\n",
    "| Método de pagamento  | O método de pagamento utilizado. |\n",
    "| Localização  | O local onde a transação ocorreu. |\n",
    "| Data da transação  | A data da transação. |\n",
    "\n",
    "\n"
   ]
  },
  {
   "cell_type": "markdown",
   "metadata": {
    "application/vnd.databricks.v1+cell": {
     "cellMetadata": {
      "byteLimit": 2048000,
      "rowLimit": 10000
     },
     "inputWidgets": {},
     "nuid": "d4460d7d-1342-435e-b15f-54ca6cc9f1e1",
     "showTitle": false,
     "tableResultSettingsMap": {},
     "title": ""
    }
   },
   "source": [
    "##### 1. Coleta de Dados\n"
   ]
  },
  {
   "cell_type": "code",
   "execution_count": 0,
   "metadata": {
    "application/vnd.databricks.v1+cell": {
     "cellMetadata": {
      "byteLimit": 2048000,
      "rowLimit": 10000
     },
     "inputWidgets": {},
     "nuid": "2ef0a9b1-76ab-41bd-96d0-a28d23d8f590",
     "showTitle": false,
     "tableResultSettingsMap": {},
     "title": ""
    }
   },
   "outputs": [],
   "source": [
    "import pandas as pd\n",
    "import numpy as np\n",
    "import matplotlib.pyplot as plt\n",
    "import seaborn as sns"
   ]
  },
  {
   "cell_type": "code",
   "execution_count": 0,
   "metadata": {
    "application/vnd.databricks.v1+cell": {
     "cellMetadata": {
      "byteLimit": 2048000,
      "rowLimit": 10000
     },
     "inputWidgets": {},
     "nuid": "cd205d0c-e726-4ab2-b847-2d9fd020b7e9",
     "showTitle": false,
     "tableResultSettingsMap": {},
     "title": ""
    }
   },
   "outputs": [],
   "source": [
    "# importando dados que foram disponibilizados no github\n",
    "\n",
    "dadosloja_df = pd.read_csv('https://raw.githubusercontent.com/V1L3La/analise-dados-python/refs/heads/main/dirty_cafe_sales.csv')\n",
    "dadosloja_df"
   ]
  },
  {
   "cell_type": "markdown",
   "metadata": {
    "application/vnd.databricks.v1+cell": {
     "cellMetadata": {
      "byteLimit": 2048000,
      "rowLimit": 10000
     },
     "inputWidgets": {},
     "nuid": "f34aa4a0-88c7-41af-a752-0dbb38c4a339",
     "showTitle": false,
     "tableResultSettingsMap": {},
     "title": ""
    }
   },
   "source": [
    "##### 2. Análise Exploratória dos Dados (EDA) - Inicial\n",
    "        **[DESCOBERTAS INICIAIS ANTES DO TRATAMENTO]**"
   ]
  },
  {
   "cell_type": "markdown",
   "metadata": {
    "application/vnd.databricks.v1+cell": {
     "cellMetadata": {
      "byteLimit": 2048000,
      "rowLimit": 10000
     },
     "inputWidgets": {},
     "nuid": "af5e2f47-c88e-426e-92e2-8f01d4b17a1c",
     "showTitle": false,
     "tableResultSettingsMap": {},
     "title": ""
    }
   },
   "source": [
    "##### Investigando dados extraidos"
   ]
  },
  {
   "cell_type": "code",
   "execution_count": 0,
   "metadata": {
    "application/vnd.databricks.v1+cell": {
     "cellMetadata": {
      "byteLimit": 2048000,
      "rowLimit": 10000
     },
     "inputWidgets": {},
     "nuid": "6b76046e-a6ad-43fb-9543-3042092ac558",
     "showTitle": false,
     "tableResultSettingsMap": {},
     "title": ""
    }
   },
   "outputs": [],
   "source": [
    "# visualisando amostras das linhas do dataframe\n",
    "dadosloja_df.sample(15)\n",
    "\n",
    "\n"
   ]
  },
  {
   "cell_type": "code",
   "execution_count": 0,
   "metadata": {
    "application/vnd.databricks.v1+cell": {
     "cellMetadata": {
      "byteLimit": 2048000,
      "rowLimit": 10000
     },
     "inputWidgets": {},
     "nuid": "46100a9e-2228-4d29-806f-4b3d67431837",
     "showTitle": false,
     "tableResultSettingsMap": {},
     "title": ""
    }
   },
   "outputs": [
    {
     "output_type": "execute_result",
     "data": {
      "text/plain": [
       "Index(['Transaction ID', 'Item', 'Quantity', 'Price Per Unit', 'Total Spent',\n",
       "       'Payment Method', 'Location', 'Transaction Date'],\n",
       "      dtype='object')"
      ]
     },
     "execution_count": 4,
     "metadata": {},
     "output_type": "execute_result"
    }
   ],
   "source": [
    "# Identificando as colunas do dataframe\n",
    "dadosloja_df.columns"
   ]
  },
  {
   "cell_type": "code",
   "execution_count": 0,
   "metadata": {
    "application/vnd.databricks.v1+cell": {
     "cellMetadata": {
      "byteLimit": 2048000,
      "rowLimit": 10000
     },
     "inputWidgets": {},
     "nuid": "33421827-cf05-4dcb-8f07-ae9bbad671b7",
     "showTitle": false,
     "tableResultSettingsMap": {},
     "title": ""
    }
   },
   "outputs": [
    {
     "output_type": "stream",
     "name": "stdout",
     "output_type": "stream",
     "text": [
      "<class 'pandas.core.frame.DataFrame'>\nRangeIndex: 10000 entries, 0 to 9999\nData columns (total 8 columns):\n #   Column            Non-Null Count  Dtype \n---  ------            --------------  ----- \n 0   Transaction ID    10000 non-null  object\n 1   Item              9667 non-null   object\n 2   Quantity          9862 non-null   object\n 3   Price Per Unit    9821 non-null   object\n 4   Total Spent       9827 non-null   object\n 5   Payment Method    7421 non-null   object\n 6   Location          6735 non-null   object\n 7   Transaction Date  9841 non-null   object\ndtypes: object(8)\nmemory usage: 625.1+ KB\n"
     ]
    }
   ],
   "source": [
    "# Inentificando dados nulos e tipos das colunas\n",
    "dadosloja_df.info()"
   ]
  },
  {
   "cell_type": "code",
   "execution_count": 0,
   "metadata": {
    "application/vnd.databricks.v1+cell": {
     "cellMetadata": {
      "byteLimit": 2048000,
      "rowLimit": 10000
     },
     "inputWidgets": {},
     "nuid": "298ecbe8-4ab5-4afd-ad07-254d03c0f80b",
     "showTitle": false,
     "tableResultSettingsMap": {},
     "title": ""
    }
   },
   "outputs": [
    {
     "output_type": "execute_result",
     "data": {
      "text/html": [
       "<div>\n",
       "<style scoped>\n",
       "    .dataframe tbody tr th:only-of-type {\n",
       "        vertical-align: middle;\n",
       "    }\n",
       "\n",
       "    .dataframe tbody tr th {\n",
       "        vertical-align: top;\n",
       "    }\n",
       "\n",
       "    .dataframe thead th {\n",
       "        text-align: right;\n",
       "    }\n",
       "</style>\n",
       "<table border=\"1\" class=\"dataframe\">\n",
       "  <thead>\n",
       "    <tr style=\"text-align: right;\">\n",
       "      <th></th>\n",
       "      <th>Transaction ID</th>\n",
       "      <th>Item</th>\n",
       "      <th>Quantity</th>\n",
       "      <th>Price Per Unit</th>\n",
       "      <th>Total Spent</th>\n",
       "      <th>Payment Method</th>\n",
       "      <th>Location</th>\n",
       "      <th>Transaction Date</th>\n",
       "    </tr>\n",
       "  </thead>\n",
       "  <tbody>\n",
       "    <tr>\n",
       "      <th>count</th>\n",
       "      <td>10000</td>\n",
       "      <td>9667</td>\n",
       "      <td>9862</td>\n",
       "      <td>9821</td>\n",
       "      <td>9827</td>\n",
       "      <td>7421</td>\n",
       "      <td>6735</td>\n",
       "      <td>9841</td>\n",
       "    </tr>\n",
       "    <tr>\n",
       "      <th>unique</th>\n",
       "      <td>10000</td>\n",
       "      <td>10</td>\n",
       "      <td>7</td>\n",
       "      <td>8</td>\n",
       "      <td>19</td>\n",
       "      <td>5</td>\n",
       "      <td>4</td>\n",
       "      <td>367</td>\n",
       "    </tr>\n",
       "    <tr>\n",
       "      <th>top</th>\n",
       "      <td>TXN_1961373</td>\n",
       "      <td>Juice</td>\n",
       "      <td>5</td>\n",
       "      <td>3.0</td>\n",
       "      <td>6.0</td>\n",
       "      <td>Digital Wallet</td>\n",
       "      <td>Takeaway</td>\n",
       "      <td>UNKNOWN</td>\n",
       "    </tr>\n",
       "    <tr>\n",
       "      <th>freq</th>\n",
       "      <td>1</td>\n",
       "      <td>1171</td>\n",
       "      <td>2013</td>\n",
       "      <td>2429</td>\n",
       "      <td>979</td>\n",
       "      <td>2291</td>\n",
       "      <td>3022</td>\n",
       "      <td>159</td>\n",
       "    </tr>\n",
       "  </tbody>\n",
       "</table>\n",
       "</div>"
      ],
      "text/plain": [
       "       Transaction ID   Item  ...  Location Transaction Date\n",
       "count           10000   9667  ...      6735             9841\n",
       "unique          10000     10  ...         4              367\n",
       "top       TXN_1961373  Juice  ...  Takeaway          UNKNOWN\n",
       "freq                1   1171  ...      3022              159\n",
       "\n",
       "[4 rows x 8 columns]"
      ]
     },
     "execution_count": 6,
     "metadata": {},
     "output_type": "execute_result"
    }
   ],
   "source": [
    "# analisando Número total de valores, valores únicos, Valor mais comume Frequência do valor mais comum \n",
    "dadosloja_df.describe()\n",
    "dadosloja_df.describe(percentiles=[0.1, 0.9]) #- Apenas colunas numéricas\n",
    "dadosloja_df.describe(include='object') #- Apenas colunas categóricas\n"
   ]
  },
  {
   "cell_type": "markdown",
   "metadata": {
    "application/vnd.databricks.v1+cell": {
     "cellMetadata": {
      "byteLimit": 2048000,
      "rowLimit": 10000
     },
     "inputWidgets": {},
     "nuid": "45ad16ac-c868-4c55-9e8d-ad596b84ac18",
     "showTitle": false,
     "tableResultSettingsMap": {},
     "title": ""
    }
   },
   "source": [
    "##### 3- Análise de Qualidade dos Dados<br/>\n",
    "\n",
    "-Contagem valores únicos<br/>\n",
    "-Identificar valores únicos, duplicados e nulos\n",
    "\n"
   ]
  },
  {
   "cell_type": "code",
   "execution_count": 0,
   "metadata": {
    "application/vnd.databricks.v1+cell": {
     "cellMetadata": {
      "byteLimit": 2048000,
      "rowLimit": 10000
     },
     "inputWidgets": {},
     "nuid": "48f5f705-60e6-4952-af70-af8b94ceddb7",
     "showTitle": false,
     "tableResultSettingsMap": {},
     "title": ""
    }
   },
   "outputs": [
    {
     "output_type": "stream",
     "name": "stdout",
     "output_type": "stream",
     "text": [
      "\n=== Valores únicos na coluna 'Payment Method' ===\n['Credit Card' 'Cash' 'UNKNOWN' 'Digital Wallet' 'ERROR' nan]\n\n=== Valores únicos na coluna 'Location' ===\n['Takeaway' 'In-store' 'UNKNOWN' nan 'ERROR']\n\n=== Valores únicos na coluna 'Item' ===\n['Coffee' 'Cake' 'Cookie' 'Salad' 'Smoothie' 'UNKNOWN' 'Sandwich' nan\n 'ERROR' 'Juice' 'Tea']\n\n=== Valores únicos na coluna 'Quantity' ===\n['2' '4' '5' '3' '1' 'ERROR' 'UNKNOWN' nan]\n\n=== Valores únicos na coluna 'Price Per Unit' ===\n['2.0' '3.0' '1.0' '5.0' '4.0' '1.5' nan 'ERROR' 'UNKNOWN']\n\n=== Valores únicos na coluna 'Total Spent' ===\n['4.0' '12.0' 'ERROR' '10.0' '20.0' '9.0' '16.0' '15.0' '25.0' '8.0' '5.0'\n '3.0' '6.0' nan 'UNKNOWN' '2.0' '1.0' '7.5' '4.5' '1.5']\n\n=== Valores únicos na coluna 'Transaction Date' ===\n['2023-09-08' '2023-05-16' '2023-07-19' '2023-04-27' '2023-06-11'\n '2023-03-31' '2023-10-06' '2023-10-28' '2023-07-28' '2023-12-31'\n '2023-11-07' 'ERROR' '2023-05-03' '2023-06-01' '2023-03-21' '2023-11-15'\n '2023-06-10' '2023-02-24' '2023-03-25' '2023-01-15' '2023-04-04'\n '2023-03-30' '2023-12-01' '2023-09-18' '2023-06-03' '2023-12-13'\n '2023-04-20' '2023-04-10' '2023-03-11' '2023-06-02' '2023-11-06'\n '2023-08-15' '2023-10-09' '2023-05-28' '2023-07-17' '2023-04-29'\n '2023-06-08' '2023-06-29' '2023-04-17' '2023-12-22' '2023-01-10'\n '2023-10-02' '2023-02-23' '2023-03-22' '2023-11-03' '2023-03-02'\n '2023-06-26' '2023-05-02' '2023-09-05' '2023-01-08' '2023-03-15'\n '2023-11-25' '2023-12-05' '2023-03-19' '2023-06-27' '2023-04-19'\n '2023-10-07' '2023-09-30' '2023-05-27' '2023-11-18' '2023-10-20'\n '2023-10-03' '2023-10-27' '2023-04-06' '2023-01-31' '2023-12-08'\n '2023-06-19' '2023-12-14' '2023-07-16' '2023-02-22' nan '2023-06-15'\n '2023-12-09' '2023-04-18' '2023-10-29' '2023-04-30' '2023-04-02'\n '2023-05-24' '2023-03-12' '2023-08-16' '2023-09-10' '2023-03-07'\n '2023-08-07' '2023-08-20' '2023-04-15' '2023-07-25' '2023-10-30'\n '2023-12-15' '2023-02-25' '2023-04-03' '2023-10-08' '2023-12-28'\n '2023-08-30' '2023-02-03' '2023-09-12' '2023-05-04' '2023-02-21'\n 'UNKNOWN' '2023-03-16' '2023-02-06' '2023-03-29' '2023-06-18'\n '2023-09-23' '2023-01-14' '2023-09-14' '2023-09-16' '2023-04-08'\n '2023-12-19' '2023-07-14' '2023-12-12' '2023-01-05' '2023-01-23'\n '2023-02-20' '2023-12-06' '2023-05-31' '2023-08-11' '2023-09-03'\n '2023-07-11' '2023-06-06' '2023-01-18' '2023-03-23' '2023-01-04'\n '2023-06-23' '2023-08-03' '2023-07-12' '2023-11-02' '2023-07-31'\n '2023-09-19' '2023-02-09' '2023-09-04' '2023-05-21' '2023-07-02'\n '2023-07-10' '2023-11-21' '2023-12-02' '2023-03-13' '2023-08-12'\n '2023-02-16' '2023-04-11' '2023-03-26' '2023-11-01' '2023-07-22'\n '2023-07-26' '2023-02-28' '2023-01-27' '2023-01-19' '2023-04-07'\n '2023-03-20' '2023-12-27' '2023-10-26' '2023-02-18' '2023-05-15'\n '2023-12-10' '2023-04-21' '2023-02-04' '2023-11-12' '2023-08-05'\n '2023-05-10' '2023-07-15' '2023-01-11' '2023-10-01' '2023-04-26'\n '2023-08-25' '2023-03-01' '2023-11-13' '2023-07-09' '2023-05-13'\n '2023-05-18' '2023-01-17' '2023-09-22' '2023-08-22' '2023-07-27'\n '2023-12-30' '2023-12-21' '2023-09-28' '2023-11-16' '2023-04-14'\n '2023-01-03' '2023-01-12' '2023-08-31' '2023-07-07' '2023-09-15'\n '2023-10-21' '2023-09-02' '2023-08-19' '2023-01-06' '2023-10-13'\n '2023-05-29' '2023-05-22' '2023-11-23' '2023-10-15' '2023-11-14'\n '2023-11-26' '2023-12-17' '2023-05-09' '2023-10-22' '2023-06-30'\n '2023-04-25' '2023-02-19' '2023-12-11' '2023-10-12' '2023-07-04'\n '2023-01-28' '2023-10-04' '2023-02-26' '2023-10-11' '2023-02-14'\n '2023-04-28' '2023-09-06' '2023-04-23' '2023-01-22' '2023-03-10'\n '2023-01-09' '2023-12-03' '2023-08-06' '2023-12-29' '2023-02-15'\n '2023-05-25' '2023-10-31' '2023-02-27' '2023-03-03' '2023-09-27'\n '2023-08-18' '2023-12-16' '2023-06-07' '2023-05-12' '2023-07-06'\n '2023-06-20' '2023-08-09' '2023-05-14' '2023-07-18' '2023-10-10'\n '2023-02-02' '2023-08-14' '2023-09-26' '2023-01-13' '2023-10-16'\n '2023-11-17' '2023-12-20' '2023-12-04' '2023-02-08' '2023-09-11'\n '2023-02-01' '2023-02-12' '2023-03-14' '2023-09-29' '2023-04-22'\n '2023-06-13' '2023-12-24' '2023-03-28' '2023-03-06' '2023-02-11'\n '2023-01-30' '2023-04-09' '2023-04-16' '2023-12-23' '2023-03-05'\n '2023-03-24' '2023-07-23' '2023-07-29' '2023-06-05' '2023-10-19'\n '2023-01-07' '2023-11-29' '2023-07-05' '2023-07-20' '2023-05-07'\n '2023-08-10' '2023-10-24' '2023-08-13' '2023-08-28' '2023-06-21'\n '2023-11-10' '2023-10-18' '2023-05-19' '2023-11-09' '2023-06-24'\n '2023-05-11' '2023-12-07' '2023-09-01' '2023-09-25' '2023-06-22'\n '2023-05-30' '2023-04-24' '2023-09-20' '2023-02-07' '2023-05-05'\n '2023-02-10' '2023-11-24' '2023-10-25' '2023-10-05' '2023-07-21'\n '2023-07-08' '2023-03-17' '2023-10-14' '2023-06-28' '2023-09-09'\n '2023-08-21' '2023-07-01' '2023-06-14' '2023-03-09' '2023-11-08'\n '2023-12-26' '2023-09-13' '2023-05-23' '2023-08-24' '2023-04-01'\n '2023-06-09' '2023-08-23' '2023-08-08' '2023-08-27' '2023-05-26'\n '2023-06-16' '2023-12-25' '2023-01-25' '2023-10-23' '2023-05-06'\n '2023-01-29' '2023-08-29' '2023-01-01' '2023-07-24' '2023-04-12'\n '2023-12-18' '2023-09-21' '2023-05-01' '2023-02-05' '2023-01-24'\n '2023-01-02' '2023-06-12' '2023-01-16' '2023-10-17' '2023-03-04'\n '2023-06-17' '2023-03-18' '2023-08-26' '2023-05-17' '2023-11-22'\n '2023-08-17' '2023-11-19' '2023-11-27' '2023-06-04' '2023-09-17'\n '2023-11-04' '2023-11-28' '2023-06-25' '2023-04-13' '2023-01-26'\n '2023-08-04' '2023-05-08' '2023-11-20' '2023-07-13' '2023-09-24'\n '2023-01-21' '2023-03-08' '2023-09-07' '2023-11-30' '2023-08-02'\n '2023-04-05' '2023-08-01' '2023-01-20' '2023-11-11' '2023-02-13'\n '2023-07-30' '2023-02-17' '2023-05-20' '2023-11-05' '2023-03-27'\n '2023-07-03']\n"
     ]
    }
   ],
   "source": [
    "# identificar valores únicos de várias colunas separadamente\n",
    "colunas = ['Payment Method', 'Location', 'Item', 'Quantity', 'Price Per Unit', 'Total Spent', 'Transaction Date']\n",
    "for coluna in colunas:\n",
    "    print(f\"\\n=== Valores únicos na coluna '{coluna}' ===\")\n",
    "    print(dadosloja_df[coluna].unique())"
   ]
  },
  {
   "cell_type": "code",
   "execution_count": 0,
   "metadata": {
    "application/vnd.databricks.v1+cell": {
     "cellMetadata": {
      "byteLimit": 2048000,
      "rowLimit": 10000
     },
     "inputWidgets": {},
     "nuid": "37ddc3fc-7f84-4099-bf3f-064f871247c2",
     "showTitle": false,
     "tableResultSettingsMap": {},
     "title": ""
    }
   },
   "outputs": [
    {
     "output_type": "execute_result",
     "data": {
      "text/plain": [
       "0"
      ]
     },
     "execution_count": 8,
     "metadata": {},
     "output_type": "execute_result"
    }
   ],
   "source": [
    "dadosloja_df.duplicated().sum() # Total de linhas duplicadas"
   ]
  },
  {
   "cell_type": "code",
   "execution_count": 0,
   "metadata": {
    "application/vnd.databricks.v1+cell": {
     "cellMetadata": {
      "byteLimit": 2048000,
      "rowLimit": 10000
     },
     "inputWidgets": {},
     "nuid": "231f86b9-7739-4fb0-a55e-fd2210af309f",
     "showTitle": false,
     "tableResultSettingsMap": {},
     "title": ""
    }
   },
   "outputs": [
    {
     "output_type": "stream",
     "name": "stdout",
     "output_type": "stream",
     "text": [
      "Transaction ID         0\nItem                 333\nQuantity             138\nPrice Per Unit       179\nTotal Spent          173\nPayment Method      2579\nLocation            3265\nTransaction Date     159\ndtype: int64\nTransaction ID      0.0000\nItem                0.0333\nQuantity            0.0138\nPrice Per Unit      0.0179\nTotal Spent         0.0173\nPayment Method      0.2579\nLocation            0.3265\nTransaction Date    0.0159\ndtype: float64\n6826\n"
     ]
    }
   ],
   "source": [
    "#Contagem de valores nulos por cada coluna \n",
    "print(dadosloja_df.isnull().sum())            # Contagem de valores nulos por cada coluna     \n",
    "print(dadosloja_df.isna().mean())             # Porcentagem de valores ausentes\n",
    "print(dadosloja_df.isnull().sum().sum())      # Total de valores nulos"
   ]
  },
  {
   "cell_type": "code",
   "execution_count": 0,
   "metadata": {
    "application/vnd.databricks.v1+cell": {
     "cellMetadata": {
      "byteLimit": 2048000,
      "rowLimit": 10000
     },
     "inputWidgets": {},
     "nuid": "349c690d-b392-453f-90ef-73c9fc822609",
     "showTitle": false,
     "tableResultSettingsMap": {
      "0": {
       "dataGridStateBlob": "{\"version\":1,\"tableState\":{\"columnPinning\":{\"left\":[\"#row_number#\"],\"right\":[]},\"columnSizing\":{},\"columnVisibility\":{}},\"settings\":{\"columns\":{}},\"syncTimestamp\":1756574316219}",
       "filterBlob": "{\"version\":1,\"filterGroups\":[],\"syncTimestamp\":1756575070932}",
       "queryPlanFiltersBlob": "[]",
       "tableResultIndex": 0
      }
     },
     "title": ""
    }
   },
   "outputs": [],
   "source": [
    "display(dadosloja_df)      # Analisando cada coluna e suas quantiddes"
   ]
  },
  {
   "cell_type": "markdown",
   "metadata": {
    "application/vnd.databricks.v1+cell": {
     "cellMetadata": {
      "byteLimit": 2048000,
      "rowLimit": 10000
     },
     "inputWidgets": {},
     "nuid": "8ade9157-da91-447c-afed-a97c99e38ad9",
     "showTitle": false,
     "tableResultSettingsMap": {},
     "title": ""
    }
   },
   "source": [
    "##### **4. Preparação dos Dados e Limpeza**  \n",
    "-Tratamentos dos dados<br/>\n",
    "\n"
   ]
  },
  {
   "cell_type": "code",
   "execution_count": 0,
   "metadata": {
    "application/vnd.databricks.v1+cell": {
     "cellMetadata": {
      "byteLimit": 2048000,
      "rowLimit": 10000
     },
     "inputWidgets": {},
     "nuid": "4a0a8e90-feaa-4207-84b8-92eed51120f3",
     "showTitle": false,
     "tableResultSettingsMap": {},
     "title": ""
    }
   },
   "outputs": [
    {
     "output_type": "stream",
     "name": "stdout",
     "output_type": "stream",
     "text": [
      "<class 'pandas.core.frame.DataFrame'>\nRangeIndex: 10000 entries, 0 to 9999\nData columns (total 8 columns):\n #   Column            Non-Null Count  Dtype \n---  ------            --------------  ----- \n 0   Transaction ID    10000 non-null  object\n 1   Item              9667 non-null   object\n 2   Quantity          9862 non-null   object\n 3   Price Per Unit    9821 non-null   object\n 4   Total Spent       9827 non-null   object\n 5   Payment Method    7421 non-null   object\n 6   Location          6735 non-null   object\n 7   Transaction Date  9841 non-null   object\ndtypes: object(8)\nmemory usage: 625.1+ KB\n"
     ]
    }
   ],
   "source": [
    "# visualizando os tipos de dados das colunas\n",
    "dadosloja_df.info()"
   ]
  },
  {
   "cell_type": "code",
   "execution_count": 0,
   "metadata": {
    "application/vnd.databricks.v1+cell": {
     "cellMetadata": {
      "byteLimit": 2048000,
      "rowLimit": 10000
     },
     "inputWidgets": {},
     "nuid": "691e6049-9775-4716-8994-bb36e4ea270e",
     "showTitle": false,
     "tableResultSettingsMap": {},
     "title": ""
    }
   },
   "outputs": [
    {
     "output_type": "stream",
     "name": "stdout",
     "output_type": "stream",
     "text": [
      "\uD83D\uDD04 Convertendo tipos de dados...\n<class 'pandas.core.frame.DataFrame'>\nRangeIndex: 10000 entries, 0 to 9999\nData columns (total 8 columns):\n #   Column            Non-Null Count  Dtype         \n---  ------            --------------  -----         \n 0   Transaction ID    10000 non-null  object        \n 1   Item              9667 non-null   object        \n 2   Quantity          9521 non-null   Int64         \n 3   Price Per Unit    9467 non-null   float64       \n 4   Total Spent       9498 non-null   float64       \n 5   Payment Method    7421 non-null   object        \n 6   Location          6735 non-null   object        \n 7   Transaction Date  9540 non-null   datetime64[ns]\ndtypes: Int64(1), datetime64[ns](1), float64(2), object(4)\nmemory usage: 634.9+ KB\n"
     ]
    }
   ],
   "source": [
    "# =====================================================================\n",
    "# CONVERSÃO DE TIPOS DE DADOS\n",
    "# =====================================================================\n",
    "print(\"\uD83D\uDD04 Convertendo tipos de dados...\")\n",
    "\n",
    "# Quantity deve ser inteiro (int)\n",
    "dadosloja_df['Quantity'] = pd.to_numeric(dadosloja_df['Quantity'], errors='coerce').astype('Int64')\n",
    "\n",
    "# Price Per Unit e Total Spent devem ser float\n",
    "dadosloja_df['Price Per Unit'] = pd.to_numeric(dadosloja_df['Price Per Unit'], errors='coerce').astype('float64')\n",
    "dadosloja_df['Total Spent'] = pd.to_numeric(dadosloja_df['Total Spent'], errors='coerce').astype('float64')\n",
    "\n",
    "# 2. Converter coluna de data para datetime\n",
    "dadosloja_df['Transaction Date'] = pd.to_datetime(dadosloja_df['Transaction Date'], errors='coerce')\n",
    "\n",
    "# =====================================================================\n",
    "# VERIFICAÇÕES FINAIS\n",
    "# =====================================================================\n",
    "\n",
    "dadosloja_df.info()\n",
    "\n",
    "# 3. Mostrar amostra dos dados convertidos\n",
    "#print(\"\\n\uD83D\uDCCA Amostra dos dados convertidos:\")\n",
    "#dadosloja_df[['Payment Method','Item','Quantity', 'Price Per Unit', 'Total Spent', 'Location','Transaction Date']].sample(5)"
   ]
  },
  {
   "cell_type": "markdown",
   "metadata": {
    "application/vnd.databricks.v1+cell": {
     "cellMetadata": {
      "byteLimit": 2048000,
      "rowLimit": 10000
     },
     "inputWidgets": {},
     "nuid": "3ac7fe81-2094-4516-b14a-8faf901cc1d0",
     "showTitle": false,
     "tableResultSettingsMap": {},
     "title": ""
    }
   },
   "source": [
    "##### Tratamento dos dados errados(Categóricos, numéricos e data) e NAN "
   ]
  },
  {
   "cell_type": "code",
   "execution_count": 0,
   "metadata": {
    "application/vnd.databricks.v1+cell": {
     "cellMetadata": {
      "byteLimit": 2048000,
      "rowLimit": 10000
     },
     "inputWidgets": {},
     "nuid": "3836ede2-8e0d-45b5-895f-26f33a880073",
     "showTitle": false,
     "tableResultSettingsMap": {},
     "title": ""
    }
   },
   "outputs": [],
   "source": [
    "# °°°°°°°°°°°°°°°°°°°°CODE ERRADOS(Categóricos, numéricos e data) e NAN :\n",
    "# =====================================================================\n",
    "# TRATAMENTO DE VALORES ERRADOS\n",
    "# =====================================================================\n",
    "# 1. EM COLUNAS CATEGÓRICAS:\n",
    "print(\"\uD83D\uDD04 Tratando colunas categóricas...\")\n",
    "colunas_categoricas = ['Payment Method', 'Location', 'Item']\n",
    "for coluna in colunas_categoricas:\n",
    "    # Substituir valores específicos por \"Não informado\"\n",
    "    dadosloja_df[coluna] = dadosloja_df[coluna].replace(['ERROR', 'UNKNOWN'], 'Não informado')\n",
    "    # Preencher valores NaN por \"Não informado\"\n",
    "    dadosloja_df[coluna] = dadosloja_df[coluna].fillna('Não informado')\n",
    "    print(f\"✅ Coluna '{coluna}' tratada\")\n",
    "\n",
    "# 2.  EM COLUNAS NUMÉRICAS:   (nesse caso foi decidido substituir por 0)\n",
    "print(\"\\n\uD83D\uDD04 Tratando colunas numéricas...\")\n",
    "colunas_numericas = ['Quantity', 'Price Per Unit', 'Total Spent']\n",
    "for coluna in colunas_numericas:\n",
    "    # Substituir valores específicos por 0\n",
    "    dadosloja_df[coluna] = dadosloja_df[coluna].replace(['ERROR', 'UNKNOWN'], 0)\n",
    "    # Preencher valores NaN por 0\n",
    "    dadosloja_df[coluna] = dadosloja_df[coluna].fillna(0)\n",
    "    print(f\"✅ Coluna '{coluna}' tratada\")\n",
    "\n",
    "# 3.  EM COLUNAS DE DATAS:   (nesse caso foi decidido substituir pela primeira data)\n",
    "print(\"\\n\uD83D\uDD04 Tratando coluna de data...\")\n",
    "coluna_data = ['Transaction Date']\n",
    "for coluna in coluna_data:\n",
    "    # Substituir valores específicos por \"Não informado\"\n",
    "    dadosloja_df[coluna] = dadosloja_df[coluna].replace(['ERROR', 'UNKNOWN'], '2023-01-01')\n",
    "    # Preencher valores NaN por \"Não informado\"\n",
    "    dadosloja_df[coluna] = dadosloja_df[coluna].fillna('2023-01-01')\n",
    "    print(f\"✅ Coluna '{coluna}' tratada\")\n",
    "# =====================================================================\n",
    "# VERIFICAÇÕES FINAIS\n",
    "# =====================================================================\n",
    "# 4. Informações gerais sobre o DataFrame\n",
    "print(\"\\n\uD83D\uDCCB Informações gerais do DataFrame:\")\n",
    "dadosloja_df.info()\n",
    "\n",
    "# 5. Verificar valores nulos restantes\n",
    "print(\"\\n\uD83D\uDD0D Valores nulos após tratamento:\")\n",
    "print(dadosloja_df.isnull().sum())\n",
    "\n",
    "# 6. Identificar valores únicos de várias colunas separadamente\n",
    "todas_colunas = ['Payment Method', 'Location', 'Item', 'Quantity', 'Price Per Unit', 'Total Spent', 'Transaction Date']\n",
    "for cada_coluna in todas_colunas:\n",
    "    print(f\"\\n=== Valores únicos na coluna '{cada_coluna}' ===\")\n",
    "    print(dadosloja_df[cada_coluna].unique())\n",
    "# °°°°°°°°°°°°°°°°°°°°FIM CODE ERRADOS(Categóricos, numéricos e data) e NAN  "
   ]
  },
  {
   "cell_type": "markdown",
   "metadata": {
    "application/vnd.databricks.v1+cell": {
     "cellMetadata": {
      "byteLimit": 2048000,
      "rowLimit": 10000
     },
     "inputWidgets": {},
     "nuid": "a4cc8081-50bf-47d2-b6e4-bde14d45e168",
     "showTitle": false,
     "tableResultSettingsMap": {},
     "title": ""
    }
   },
   "source": [
    "##### Desmenbrando a coluna data em dia, mes, ano, Dia da semana"
   ]
  },
  {
   "cell_type": "code",
   "execution_count": 0,
   "metadata": {
    "application/vnd.databricks.v1+cell": {
     "cellMetadata": {
      "byteLimit": 2048000,
      "rowLimit": 10000
     },
     "inputWidgets": {},
     "nuid": "9f34ee29-d3c5-41da-95ef-efbced2d3aa7",
     "showTitle": false,
     "tableResultSettingsMap": {},
     "title": ""
    }
   },
   "outputs": [],
   "source": [
    "# Criando uma cópia do DataFrame original\n",
    "dadosloja_df2 = dadosloja_df.copy()"
   ]
  },
  {
   "cell_type": "code",
   "execution_count": 0,
   "metadata": {
    "application/vnd.databricks.v1+cell": {
     "cellMetadata": {
      "byteLimit": 2048000,
      "rowLimit": 10000
     },
     "inputWidgets": {},
     "nuid": "79368891-ec0c-444d-a6ec-770211acc742",
     "showTitle": false,
     "tableResultSettingsMap": {},
     "title": ""
    }
   },
   "outputs": [],
   "source": [
    "# Criando novas colunas a partir da coluna 'Transaction Date'\n",
    "dadosloja_df2['dia'] = dadosloja_df2['Transaction Date'].dt.day\n",
    "dadosloja_df2['Nome do mes'] = dadosloja_df2['Transaction Date'].dt.strftime('%B')\n",
    "dadosloja_df2['ano'] = dadosloja_df2['Transaction Date'].dt.year\n",
    "dadosloja_df2['Dia da semana'] = dadosloja_df2['Transaction Date'].dt.strftime('%A')\n",
    "\n",
    "# Exibindo o DataFrame atualizado\n",
    "display(dadosloja_df2)"
   ]
  },
  {
   "cell_type": "markdown",
   "metadata": {
    "application/vnd.databricks.v1+cell": {
     "cellMetadata": {
      "byteLimit": 2048000,
      "rowLimit": 10000
     },
     "inputWidgets": {},
     "nuid": "0dd8b2f7-8b74-46f6-a4e8-455bd6b46615",
     "showTitle": false,
     "tableResultSettingsMap": {},
     "title": ""
    }
   },
   "source": [
    "##### Tratando as colunas numéricas Quantity, Price Per Unit e Total Spent\n",
    "tratar dados.txt"
   ]
  },
  {
   "cell_type": "code",
   "execution_count": 0,
   "metadata": {
    "application/vnd.databricks.v1+cell": {
     "cellMetadata": {
      "byteLimit": 2048000,
      "rowLimit": 10000
     },
     "inputWidgets": {},
     "nuid": "baaa4664-3505-4c35-8cb4-4240e91cfbff",
     "showTitle": false,
     "tableResultSettingsMap": {
      "0": {
       "dataGridStateBlob": "{\"version\":1,\"tableState\":{\"columnPinning\":{\"left\":[\"#row_number#\"],\"right\":[]},\"columnSizing\":{\"Item\":113},\"columnVisibility\":{}},\"settings\":{\"columns\":{}},\"syncTimestamp\":1756599823564}",
       "filterBlob": "{\"version\":1,\"filterGroups\":[],\"syncTimestamp\":1757010330708}",
       "queryPlanFiltersBlob": "[]",
       "tableResultIndex": 0
      }
     },
     "title": ""
    }
   },
   "outputs": [],
   "source": [
    "# Visualizando o DataFrame\n",
    "display(dadosloja_df2)"
   ]
  },
  {
   "cell_type": "code",
   "execution_count": 0,
   "metadata": {
    "application/vnd.databricks.v1+cell": {
     "cellMetadata": {
      "byteLimit": 2048000,
      "rowLimit": 10000
     },
     "inputWidgets": {},
     "nuid": "ed0763f4-c9fd-452d-aa24-cb5c0608bd05",
     "showTitle": false,
     "tableResultSettingsMap": {
      "0": {
       "dataGridStateBlob": "{\"version\":1,\"tableState\":{\"columnPinning\":{\"left\":[\"#row_number#\"],\"right\":[]},\"columnSizing\":{\"Price Per Unit\":132},\"columnVisibility\":{}},\"settings\":{\"columns\":{}},\"syncTimestamp\":1756686159290}",
       "filterBlob": "{\"version\":1,\"filterGroups\":[],\"syncTimestamp\":1756684293482}",
       "queryPlanFiltersBlob": "[]",
       "tableResultIndex": 0
      }
     },
     "title": ""
    }
   },
   "outputs": [],
   "source": [
    "# TRATANDO AS COLUNAS \n",
    "\n",
    "# Criando a nova coluna \"Total Spent_nova\"\n",
    "dadosloja_df2[\"Total Spent_nova\"] = dadosloja_df2[\"Quantity\"] * dadosloja_df2[\"Price Per Unit\"]\n",
    "\n",
    "# Apagando a coluna antiga \"Total Spent\"\n",
    "dadosloja_df2 = dadosloja_df2.drop(columns=[\"Total Spent\"])\n",
    "\n",
    "# Exibindo o novo DataFrame com a nova coluna\n",
    "display(dadosloja_df2)\n"
   ]
  },
  {
   "cell_type": "code",
   "execution_count": 0,
   "metadata": {
    "application/vnd.databricks.v1+cell": {
     "cellMetadata": {
      "byteLimit": 2048000,
      "rowLimit": 10000
     },
     "inputWidgets": {},
     "nuid": "2d7b8cea-05d8-4627-b630-01f4e6d33cd0",
     "showTitle": false,
     "tableResultSettingsMap": {},
     "title": ""
    }
   },
   "outputs": [],
   "source": [
    "# ORGANIZANDO A COLUNA 'Total Spent_nova'\n",
    "\n",
    "# Pega todas as colunas\n",
    "cols = list(dadosloja_df2.columns)\n",
    "\n",
    "# Remove a coluna que será movimentada\n",
    "cols.remove(\"Total Spent_nova\")\n",
    "\n",
    "# Insere a coluna onde quiser (ex: depois de Price Per Unit)\n",
    "pos = cols.index(\"Price Per Unit\") + 1\n",
    "cols.insert(pos, \"Total Spent_nova\")\n",
    "\n",
    "# Reorganiza o DataFrame\n",
    "dadosloja_df2 = dadosloja_df2[cols]\n",
    "\n",
    "# Renomeando a coluna \"Total Spent_nova\" para \"Total Spent\"\n",
    "dadosloja_df2 = dadosloja_df2.rename(columns={\"Total Spent_nova\": \"Total Spent\"})\n",
    "\n",
    "# Mostrar o DataFrame\n",
    "display(dadosloja_df2)\n"
   ]
  },
  {
   "cell_type": "markdown",
   "metadata": {
    "application/vnd.databricks.v1+cell": {
     "cellMetadata": {
      "byteLimit": 2048000,
      "rowLimit": 10000
     },
     "inputWidgets": {},
     "nuid": "0b330152-dd0f-462a-98db-0efa84f9e3dd",
     "showTitle": false,
     "tableResultSettingsMap": {},
     "title": ""
    }
   },
   "source": [
    "##### Criando uma coluna para identificar vendas que não tem informações registradas"
   ]
  },
  {
   "cell_type": "code",
   "execution_count": 0,
   "metadata": {
    "application/vnd.databricks.v1+cell": {
     "cellMetadata": {
      "byteLimit": 2048000,
      "rowLimit": 10000
     },
     "inputWidgets": {},
     "nuid": "78056e67-18e7-46ec-b9dc-74dd43c2deda",
     "showTitle": false,
     "tableResultSettingsMap": {
      "0": {
       "dataGridStateBlob": "{\"version\":1,\"tableState\":{\"columnPinning\":{\"left\":[\"#row_number#\"],\"right\":[]},\"columnSizing\":{\"Price Per Unit\":90,\"Total Spent\":90},\"columnVisibility\":{}},\"settings\":{\"columns\":{}},\"syncTimestamp\":1756688166107}",
       "filterBlob": "{\"version\":1,\"filterGroups\":[],\"syncTimestamp\":1756930527138}",
       "queryPlanFiltersBlob": "[]",
       "tableResultIndex": 0
      }
     },
     "title": ""
    }
   },
   "outputs": [],
   "source": [
    "# iDENTIFICANDO FALHAS DE REGISTROS NAS VENDAS\n",
    "\n",
    "# Criando a nova coluna \"Com_não_informado\" com base nas condições especificadas\n",
    "dadosloja_df2[\"Com_não_informado\"] = dadosloja_df2.apply(\n",
    "    lambda row: \"Sim\" if (\n",
    "        row[\"Item\"] == \"Não informado\" or\n",
    "        row[\"Payment Method\"] == \"Não informado\" or\n",
    "        row[\"Location\"] == \"Não informado\"\n",
    "    ) else \"Não\", axis=1\n",
    ")\n",
    "\n",
    "# Apagando a coluna \"Falha registro Venda\"\n",
    "#dadosloja_df2 = dadosloja_df2.drop(columns=[\"Falha registro Venda\"])\n",
    "\n",
    "# Exibindo o DataFrame atualizado\n",
    "display(dadosloja_df2)"
   ]
  },
  {
   "cell_type": "markdown",
   "metadata": {
    "application/vnd.databricks.v1+cell": {
     "cellMetadata": {
      "byteLimit": 2048000,
      "rowLimit": 10000
     },
     "inputWidgets": {},
     "nuid": "819edd7a-8a36-4193-b4f6-c7cc4945a091",
     "showTitle": false,
     "tableResultSettingsMap": {},
     "title": ""
    }
   },
   "source": [
    "##### Confirmando se os tratamentos dos dados no dataframe foram realizados"
   ]
  },
  {
   "cell_type": "code",
   "execution_count": 0,
   "metadata": {
    "application/vnd.databricks.v1+cell": {
     "cellMetadata": {
      "byteLimit": 2048000,
      "rowLimit": 10000
     },
     "inputWidgets": {},
     "nuid": "3a69db14-4883-44fe-b3fc-43df27367ae0",
     "showTitle": false,
     "tableResultSettingsMap": {
      "0": {
       "dataGridStateBlob": "{\"version\":1,\"tableState\":{\"columnPinning\":{\"left\":[\"#row_number#\"],\"right\":[]},\"columnSizing\":{},\"columnVisibility\":{}},\"settings\":{\"columns\":{}},\"syncTimestamp\":1756610129756}",
       "filterBlob": "{\"version\":1,\"filterGroups\":[],\"syncTimestamp\":1756689172775}",
       "queryPlanFiltersBlob": "[]",
       "tableResultIndex": 0
      }
     },
     "title": ""
    }
   },
   "outputs": [],
   "source": [
    "display(dadosloja_df2)"
   ]
  },
  {
   "cell_type": "markdown",
   "metadata": {
    "application/vnd.databricks.v1+cell": {
     "cellMetadata": {
      "byteLimit": 2048000,
      "rowLimit": 10000
     },
     "inputWidgets": {},
     "nuid": "84dfb263-5bc1-47b8-a6e4-f76403762cc5",
     "showTitle": false,
     "tableResultSettingsMap": {},
     "title": ""
    }
   },
   "source": [
    "##### Tratando outliers"
   ]
  },
  {
   "cell_type": "code",
   "execution_count": 0,
   "metadata": {
    "application/vnd.databricks.v1+cell": {
     "cellMetadata": {
      "byteLimit": 2048000,
      "rowLimit": 10000
     },
     "inputWidgets": {},
     "nuid": "1845e374-6883-4137-b81a-783dd1a46532",
     "showTitle": false,
     "tableResultSettingsMap": {},
     "title": ""
    }
   },
   "outputs": [],
   "source": [
    "# Identificando valores OUTLIERS\n",
    "\n",
    "import matplotlib.pyplot as plt\n",
    "import seaborn as sns\n",
    "\n",
    "# Calcular IQR\n",
    "Q1 = dadosloja_df2['Total Spent'].quantile(0.25)\n",
    "Q3 = dadosloja_df2['Total Spent'].quantile(0.75)\n",
    "IQR = Q3 - Q1\n",
    "\n",
    "# Definir limites para outliers\n",
    "limite_inferior = Q1 - 1.5 * IQR\n",
    "limite_superior = Q3 + 1.5 * IQR\n",
    "\n",
    "# Identificar outliers\n",
    "outliers = dadosloja_df2[(dadosloja_df2['Total Spent'] < limite_inferior) | \n",
    "                        (dadosloja_df2['Total Spent'] > limite_superior)]\n",
    "\n",
    "# Plotar histograma\n",
    "plt.figure(figsize=(10, 5))\n",
    "sns.histplot(dadosloja_df2['Total Spent'], bins=30)\n",
    "plt.axvline(limite_inferior, color='r', linestyle='--', label='Limite Inferior')\n",
    "plt.axvline(limite_superior, color='r', linestyle='--', label='Limite Superior')\n",
    "plt.title('Histograma de Total Spent com Limites de Outliers')\n",
    "plt.xlabel('Total Spent')\n",
    "plt.ylabel('Frequência')\n",
    "plt.legend()\n",
    "plt.show()\n",
    "\n",
    "# Exibir número de outliers\n",
    "print(f\"Número de outliers: {outliers.shape[0]}\")"
   ]
  },
  {
   "cell_type": "code",
   "execution_count": 0,
   "metadata": {
    "application/vnd.databricks.v1+cell": {
     "cellMetadata": {
      "byteLimit": 2048000,
      "rowLimit": 10000
     },
     "inputWidgets": {},
     "nuid": "598834d3-2a53-4443-ad21-f09d7cf427fc",
     "showTitle": false,
     "tableResultSettingsMap": {
      "0": {
       "dataGridStateBlob": "{\"version\":1,\"tableState\":{\"columnPinning\":{\"left\":[\"#row_number#\"],\"right\":[]},\"columnSizing\":{},\"columnVisibility\":{}},\"settings\":{\"columns\":{}},\"syncTimestamp\":1756929022708}",
       "filterBlob": "{\"version\":1,\"filterGroups\":[],\"syncTimestamp\":1756930801608}",
       "queryPlanFiltersBlob": "[]",
       "tableResultIndex": 0
      }
     },
     "title": ""
    }
   },
   "outputs": [],
   "source": [
    "# Criando uma cópia do DataFrame tratado anteriormente\n",
    "\n",
    "dadosloja_df3 = dadosloja_df2.copy()\n",
    "display(dadosloja_df3)"
   ]
  },
  {
   "cell_type": "markdown",
   "metadata": {
    "application/vnd.databricks.v1+cell": {
     "cellMetadata": {
      "byteLimit": 2048000,
      "rowLimit": 10000
     },
     "inputWidgets": {},
     "nuid": "2b992597-f302-4a7d-8f2a-0dbc2a5784ef",
     "showTitle": false,
     "tableResultSettingsMap": {},
     "title": ""
    }
   },
   "source": [
    "##### Investigando o comportamento dos dados numéricos e categóricos para descobrir Insights"
   ]
  },
  {
   "cell_type": "code",
   "execution_count": 0,
   "metadata": {
    "application/vnd.databricks.v1+cell": {
     "cellMetadata": {
      "byteLimit": 2048000,
      "rowLimit": 10000
     },
     "inputWidgets": {},
     "nuid": "e9c39562-fc6c-4b80-81af-106f2fe7ce66",
     "showTitle": false,
     "tableResultSettingsMap": {},
     "title": ""
    }
   },
   "outputs": [
    {
     "output_type": "stream",
     "name": "stdout",
     "output_type": "stream",
     "text": [
      "       Quantity  Price Per Unit  Total Spent           dia      ano\ncount   10000.0    10000.000000      10000.0  10000.000000  10000.0\nmean     2.8834        2.792750      8.04785     15.060700   2023.0\nstd    1.528214        1.409422     6.285673      9.097136      0.0\nmin         0.0        0.000000          0.0      1.000000   2023.0\n10%         1.0        1.000000          1.0      2.000000   2023.0\n50%         3.0        3.000000          6.0     15.000000   2023.0\n90%         5.0        5.000000         16.0     28.000000   2023.0\nmax         5.0        5.000000         25.0     31.000000   2023.0\n"
     ]
    }
   ],
   "source": [
    "# ANALISANDO OS DADOS PARA DESCOBRIR O QUE ESTÁ ACONTECENDO E COMO MELHORAR \n",
    "\n",
    "print(dadosloja_df3.describe(percentiles=[0.1, 0.9]))          #- Apenas colunas numericas "
   ]
  },
  {
   "cell_type": "markdown",
   "metadata": {
    "application/vnd.databricks.v1+cell": {
     "cellMetadata": {
      "byteLimit": 2048000,
      "rowLimit": 10000
     },
     "inputWidgets": {},
     "nuid": "3f25fd6e-e0f7-4bb0-a754-5ff238d60eb7",
     "showTitle": false,
     "tableResultSettingsMap": {},
     "title": ""
    }
   },
   "source": [
    "Definindo NAN(Ausência de dados) em colunas numericas para realizar calculos estatisticos investigativos para as descobertas"
   ]
  },
  {
   "cell_type": "code",
   "execution_count": 0,
   "metadata": {
    "application/vnd.databricks.v1+cell": {
     "cellMetadata": {
      "byteLimit": 2048000,
      "rowLimit": 10000
     },
     "inputWidgets": {},
     "nuid": "66eeb9c8-62b2-4008-b153-cef7be5415bf",
     "showTitle": false,
     "tableResultSettingsMap": {
      "0": {
       "dataGridStateBlob": "{\"version\":1,\"tableState\":{\"columnPinning\":{\"left\":[\"#row_number#\"],\"right\":[]},\"columnSizing\":{},\"columnVisibility\":{}},\"settings\":{\"columns\":{}},\"syncTimestamp\":1756931856696}",
       "filterBlob": "{\"version\":1,\"filterGroups\":[{\"enabled\":true,\"filterGroupId\":\"fg_ebc1cf8f\",\"op\":\"OR\",\"filters\":[{\"filterId\":\"f_52f54aec\",\"enabled\":true,\"columnId\":\"Total Spent\",\"dataType\":\"float\",\"filterType\":\"oneof\",\"filterConfig\":{}}],\"local\":false,\"updatedAt\":1756932041380}],\"syncTimestamp\":1756932041380}",
       "queryPlanFiltersBlob": "[]",
       "tableResultIndex": 0
      }
     },
     "title": ""
    }
   },
   "outputs": [],
   "source": [
    "# Transformar zeros em NaN (ausência de dado)\n",
    "cols_to_replace = ['Quantity', 'Price Per Unit', 'Total Spent']\n",
    "dadosloja_df3[cols_to_replace] = dadosloja_df3[cols_to_replace].replace(0, np.nan)\n",
    "\n",
    "# Criar coluna \"Com_Registro_nulo\"\n",
    "dadosloja_df3[\"Com_Registro_nulo\"] = dadosloja_df3[cols_to_replace].isnull().any(axis=1).map({True: \"Sim\", False: \"Não\"})\n",
    "\n",
    "display(dadosloja_df3)"
   ]
  },
  {
   "cell_type": "code",
   "execution_count": 0,
   "metadata": {
    "application/vnd.databricks.v1+cell": {
     "cellMetadata": {
      "byteLimit": 2048000,
      "rowLimit": 10000
     },
     "inputWidgets": {},
     "nuid": "5bcec4ce-766b-46c8-8978-ac18c1e0aeaf",
     "showTitle": false,
     "tableResultSettingsMap": {},
     "title": ""
    }
   },
   "outputs": [
    {
     "output_type": "stream",
     "name": "stdout",
     "output_type": "stream",
     "text": [
      "Valores únicos na coluna 'Transaction ID':\n['TXN_1961373' 'TXN_4977031' 'TXN_4271903' ... 'TXN_5255387' 'TXN_7695629'\n 'TXN_6170729']\n\n\nValores únicos na coluna 'Item':\n['Coffee' 'Cake' 'Cookie' 'Salad' 'Smoothie' 'Não informado' 'Sandwich'\n 'Juice' 'Tea']\n\n\nValores únicos na coluna 'Quantity':\n<IntegerArray>\n[2, 4, 5, 3, 1, <NA>]\nLength: 6, dtype: Int64\n\n\nValores únicos na coluna 'Price Per Unit':\n[2.  3.  1.  5.  4.  1.5 nan]\n\n\nValores únicos na coluna 'Total Spent':\n<FloatingArray>\n[ 4.0, 12.0, 10.0, 20.0,  9.0, 16.0, 15.0, 25.0,  8.0,  5.0,  3.0,  6.0, <NA>,\n  2.0,  1.0,  7.5,  1.5,  4.5]\nLength: 18, dtype: Float64\n\n\nValores únicos na coluna 'Payment Method':\n['Credit Card' 'Cash' 'Não informado' 'Digital Wallet']\n\n\nValores únicos na coluna 'Location':\n['Takeaway' 'In-store' 'Não informado']\n\n\nValores únicos na coluna 'Transaction Date':\n['2023-09-08T00:00:00.000000000' '2023-05-16T00:00:00.000000000'\n '2023-07-19T00:00:00.000000000' '2023-04-27T00:00:00.000000000'\n '2023-06-11T00:00:00.000000000' '2023-03-31T00:00:00.000000000'\n '2023-10-06T00:00:00.000000000' '2023-10-28T00:00:00.000000000'\n '2023-07-28T00:00:00.000000000' '2023-12-31T00:00:00.000000000'\n '2023-11-07T00:00:00.000000000' '2023-01-01T00:00:00.000000000'\n '2023-05-03T00:00:00.000000000' '2023-06-01T00:00:00.000000000'\n '2023-03-21T00:00:00.000000000' '2023-11-15T00:00:00.000000000'\n '2023-06-10T00:00:00.000000000' '2023-02-24T00:00:00.000000000'\n '2023-03-25T00:00:00.000000000' '2023-01-15T00:00:00.000000000'\n '2023-04-04T00:00:00.000000000' '2023-03-30T00:00:00.000000000'\n '2023-12-01T00:00:00.000000000' '2023-09-18T00:00:00.000000000'\n '2023-06-03T00:00:00.000000000' '2023-12-13T00:00:00.000000000'\n '2023-04-20T00:00:00.000000000' '2023-04-10T00:00:00.000000000'\n '2023-03-11T00:00:00.000000000' '2023-06-02T00:00:00.000000000'\n '2023-11-06T00:00:00.000000000' '2023-08-15T00:00:00.000000000'\n '2023-10-09T00:00:00.000000000' '2023-05-28T00:00:00.000000000'\n '2023-07-17T00:00:00.000000000' '2023-04-29T00:00:00.000000000'\n '2023-06-08T00:00:00.000000000' '2023-06-29T00:00:00.000000000'\n '2023-04-17T00:00:00.000000000' '2023-12-22T00:00:00.000000000'\n '2023-01-10T00:00:00.000000000' '2023-10-02T00:00:00.000000000'\n '2023-02-23T00:00:00.000000000' '2023-03-22T00:00:00.000000000'\n '2023-11-03T00:00:00.000000000' '2023-03-02T00:00:00.000000000'\n '2023-06-26T00:00:00.000000000' '2023-05-02T00:00:00.000000000'\n '2023-09-05T00:00:00.000000000' '2023-01-08T00:00:00.000000000'\n '2023-03-15T00:00:00.000000000' '2023-11-25T00:00:00.000000000'\n '2023-12-05T00:00:00.000000000' '2023-03-19T00:00:00.000000000'\n '2023-06-27T00:00:00.000000000' '2023-04-19T00:00:00.000000000'\n '2023-10-07T00:00:00.000000000' '2023-09-30T00:00:00.000000000'\n '2023-05-27T00:00:00.000000000' '2023-11-18T00:00:00.000000000'\n '2023-10-20T00:00:00.000000000' '2023-10-03T00:00:00.000000000'\n '2023-10-27T00:00:00.000000000' '2023-04-06T00:00:00.000000000'\n '2023-01-31T00:00:00.000000000' '2023-12-08T00:00:00.000000000'\n '2023-06-19T00:00:00.000000000' '2023-12-14T00:00:00.000000000'\n '2023-07-16T00:00:00.000000000' '2023-02-22T00:00:00.000000000'\n '2023-06-15T00:00:00.000000000' '2023-12-09T00:00:00.000000000'\n '2023-04-18T00:00:00.000000000' '2023-10-29T00:00:00.000000000'\n '2023-04-30T00:00:00.000000000' '2023-04-02T00:00:00.000000000'\n '2023-05-24T00:00:00.000000000' '2023-03-12T00:00:00.000000000'\n '2023-08-16T00:00:00.000000000' '2023-09-10T00:00:00.000000000'\n '2023-03-07T00:00:00.000000000' '2023-08-07T00:00:00.000000000'\n '2023-08-20T00:00:00.000000000' '2023-04-15T00:00:00.000000000'\n '2023-07-25T00:00:00.000000000' '2023-10-30T00:00:00.000000000'\n '2023-12-15T00:00:00.000000000' '2023-02-25T00:00:00.000000000'\n '2023-04-03T00:00:00.000000000' '2023-10-08T00:00:00.000000000'\n '2023-12-28T00:00:00.000000000' '2023-08-30T00:00:00.000000000'\n '2023-02-03T00:00:00.000000000' '2023-09-12T00:00:00.000000000'\n '2023-05-04T00:00:00.000000000' '2023-02-21T00:00:00.000000000'\n '2023-03-16T00:00:00.000000000' '2023-02-06T00:00:00.000000000'\n '2023-03-29T00:00:00.000000000' '2023-06-18T00:00:00.000000000'\n '2023-09-23T00:00:00.000000000' '2023-01-14T00:00:00.000000000'\n '2023-09-14T00:00:00.000000000' '2023-09-16T00:00:00.000000000'\n '2023-04-08T00:00:00.000000000' '2023-12-19T00:00:00.000000000'\n '2023-07-14T00:00:00.000000000' '2023-12-12T00:00:00.000000000'\n '2023-01-05T00:00:00.000000000' '2023-01-23T00:00:00.000000000'\n '2023-02-20T00:00:00.000000000' '2023-12-06T00:00:00.000000000'\n '2023-05-31T00:00:00.000000000' '2023-08-11T00:00:00.000000000'\n '2023-09-03T00:00:00.000000000' '2023-07-11T00:00:00.000000000'\n '2023-06-06T00:00:00.000000000' '2023-01-18T00:00:00.000000000'\n '2023-03-23T00:00:00.000000000' '2023-01-04T00:00:00.000000000'\n '2023-06-23T00:00:00.000000000' '2023-08-03T00:00:00.000000000'\n '2023-07-12T00:00:00.000000000' '2023-11-02T00:00:00.000000000'\n '2023-07-31T00:00:00.000000000' '2023-09-19T00:00:00.000000000'\n '2023-02-09T00:00:00.000000000' '2023-09-04T00:00:00.000000000'\n '2023-05-21T00:00:00.000000000' '2023-07-02T00:00:00.000000000'\n '2023-07-10T00:00:00.000000000' '2023-11-21T00:00:00.000000000'\n '2023-12-02T00:00:00.000000000' '2023-03-13T00:00:00.000000000'\n '2023-08-12T00:00:00.000000000' '2023-02-16T00:00:00.000000000'\n '2023-04-11T00:00:00.000000000' '2023-03-26T00:00:00.000000000'\n '2023-11-01T00:00:00.000000000' '2023-07-22T00:00:00.000000000'\n '2023-07-26T00:00:00.000000000' '2023-02-28T00:00:00.000000000'\n '2023-01-27T00:00:00.000000000' '2023-01-19T00:00:00.000000000'\n '2023-04-07T00:00:00.000000000' '2023-03-20T00:00:00.000000000'\n '2023-12-27T00:00:00.000000000' '2023-10-26T00:00:00.000000000'\n '2023-02-18T00:00:00.000000000' '2023-05-15T00:00:00.000000000'\n '2023-12-10T00:00:00.000000000' '2023-04-21T00:00:00.000000000'\n '2023-02-04T00:00:00.000000000' '2023-11-12T00:00:00.000000000'\n '2023-08-05T00:00:00.000000000' '2023-05-10T00:00:00.000000000'\n '2023-07-15T00:00:00.000000000' '2023-01-11T00:00:00.000000000'\n '2023-10-01T00:00:00.000000000' '2023-04-26T00:00:00.000000000'\n '2023-08-25T00:00:00.000000000' '2023-03-01T00:00:00.000000000'\n '2023-11-13T00:00:00.000000000' '2023-07-09T00:00:00.000000000'\n '2023-05-13T00:00:00.000000000' '2023-05-18T00:00:00.000000000'\n '2023-01-17T00:00:00.000000000' '2023-09-22T00:00:00.000000000'\n '2023-08-22T00:00:00.000000000' '2023-07-27T00:00:00.000000000'\n '2023-12-30T00:00:00.000000000' '2023-12-21T00:00:00.000000000'\n '2023-09-28T00:00:00.000000000' '2023-11-16T00:00:00.000000000'\n '2023-04-14T00:00:00.000000000' '2023-01-03T00:00:00.000000000'\n '2023-01-12T00:00:00.000000000' '2023-08-31T00:00:00.000000000'\n '2023-07-07T00:00:00.000000000' '2023-09-15T00:00:00.000000000'\n '2023-10-21T00:00:00.000000000' '2023-09-02T00:00:00.000000000'\n '2023-08-19T00:00:00.000000000' '2023-01-06T00:00:00.000000000'\n '2023-10-13T00:00:00.000000000' '2023-05-29T00:00:00.000000000'\n '2023-05-22T00:00:00.000000000' '2023-11-23T00:00:00.000000000'\n '2023-10-15T00:00:00.000000000' '2023-11-14T00:00:00.000000000'\n '2023-11-26T00:00:00.000000000' '2023-12-17T00:00:00.000000000'\n '2023-05-09T00:00:00.000000000' '2023-10-22T00:00:00.000000000'\n '2023-06-30T00:00:00.000000000' '2023-04-25T00:00:00.000000000'\n '2023-02-19T00:00:00.000000000' '2023-12-11T00:00:00.000000000'\n '2023-10-12T00:00:00.000000000' '2023-07-04T00:00:00.000000000'\n '2023-01-28T00:00:00.000000000' '2023-10-04T00:00:00.000000000'\n '2023-02-26T00:00:00.000000000' '2023-10-11T00:00:00.000000000'\n '2023-02-14T00:00:00.000000000' '2023-04-28T00:00:00.000000000'\n '2023-09-06T00:00:00.000000000' '2023-04-23T00:00:00.000000000'\n '2023-01-22T00:00:00.000000000' '2023-03-10T00:00:00.000000000'\n '2023-01-09T00:00:00.000000000' '2023-12-03T00:00:00.000000000'\n '2023-08-06T00:00:00.000000000' '2023-12-29T00:00:00.000000000'\n '2023-02-15T00:00:00.000000000' '2023-05-25T00:00:00.000000000'\n '2023-10-31T00:00:00.000000000' '2023-02-27T00:00:00.000000000'\n '2023-03-03T00:00:00.000000000' '2023-09-27T00:00:00.000000000'\n '2023-08-18T00:00:00.000000000' '2023-12-16T00:00:00.000000000'\n '2023-06-07T00:00:00.000000000' '2023-05-12T00:00:00.000000000'\n '2023-07-06T00:00:00.000000000' '2023-06-20T00:00:00.000000000'\n '2023-08-09T00:00:00.000000000' '2023-05-14T00:00:00.000000000'\n '2023-07-18T00:00:00.000000000' '2023-10-10T00:00:00.000000000'\n '2023-02-02T00:00:00.000000000' '2023-08-14T00:00:00.000000000'\n '2023-09-26T00:00:00.000000000' '2023-01-13T00:00:00.000000000'\n '2023-10-16T00:00:00.000000000' '2023-11-17T00:00:00.000000000'\n '2023-12-20T00:00:00.000000000' '2023-12-04T00:00:00.000000000'\n '2023-02-08T00:00:00.000000000' '2023-09-11T00:00:00.000000000'\n '2023-02-01T00:00:00.000000000' '2023-02-12T00:00:00.000000000'\n '2023-03-14T00:00:00.000000000' '2023-09-29T00:00:00.000000000'\n '2023-04-22T00:00:00.000000000' '2023-06-13T00:00:00.000000000'\n '2023-12-24T00:00:00.000000000' '2023-03-28T00:00:00.000000000'\n '2023-03-06T00:00:00.000000000' '2023-02-11T00:00:00.000000000'\n '2023-01-30T00:00:00.000000000' '2023-04-09T00:00:00.000000000'\n '2023-04-16T00:00:00.000000000' '2023-12-23T00:00:00.000000000'\n '2023-03-05T00:00:00.000000000' '2023-03-24T00:00:00.000000000'\n '2023-07-23T00:00:00.000000000' '2023-07-29T00:00:00.000000000'\n '2023-06-05T00:00:00.000000000' '2023-10-19T00:00:00.000000000'\n '2023-01-07T00:00:00.000000000' '2023-11-29T00:00:00.000000000'\n '2023-07-05T00:00:00.000000000' '2023-07-20T00:00:00.000000000'\n '2023-05-07T00:00:00.000000000' '2023-08-10T00:00:00.000000000'\n '2023-10-24T00:00:00.000000000' '2023-08-13T00:00:00.000000000'\n '2023-08-28T00:00:00.000000000' '2023-06-21T00:00:00.000000000'\n '2023-11-10T00:00:00.000000000' '2023-10-18T00:00:00.000000000'\n '2023-05-19T00:00:00.000000000' '2023-11-09T00:00:00.000000000'\n '2023-06-24T00:00:00.000000000' '2023-05-11T00:00:00.000000000'\n '2023-12-07T00:00:00.000000000' '2023-09-01T00:00:00.000000000'\n '2023-09-25T00:00:00.000000000' '2023-06-22T00:00:00.000000000'\n '2023-05-30T00:00:00.000000000' '2023-04-24T00:00:00.000000000'\n '2023-09-20T00:00:00.000000000' '2023-02-07T00:00:00.000000000'\n '2023-05-05T00:00:00.000000000' '2023-02-10T00:00:00.000000000'\n '2023-11-24T00:00:00.000000000' '2023-10-25T00:00:00.000000000'\n '2023-10-05T00:00:00.000000000' '2023-07-21T00:00:00.000000000'\n '2023-07-08T00:00:00.000000000' '2023-03-17T00:00:00.000000000'\n '2023-10-14T00:00:00.000000000' '2023-06-28T00:00:00.000000000'\n '2023-09-09T00:00:00.000000000' '2023-08-21T00:00:00.000000000'\n '2023-07-01T00:00:00.000000000' '2023-06-14T00:00:00.000000000'\n '2023-03-09T00:00:00.000000000' '2023-11-08T00:00:00.000000000'\n '2023-12-26T00:00:00.000000000' '2023-09-13T00:00:00.000000000'\n '2023-05-23T00:00:00.000000000' '2023-08-24T00:00:00.000000000'\n '2023-04-01T00:00:00.000000000' '2023-06-09T00:00:00.000000000'\n '2023-08-23T00:00:00.000000000' '2023-08-08T00:00:00.000000000'\n '2023-08-27T00:00:00.000000000' '2023-05-26T00:00:00.000000000'\n '2023-06-16T00:00:00.000000000' '2023-12-25T00:00:00.000000000'\n '2023-01-25T00:00:00.000000000' '2023-10-23T00:00:00.000000000'\n '2023-05-06T00:00:00.000000000' '2023-01-29T00:00:00.000000000'\n '2023-08-29T00:00:00.000000000' '2023-07-24T00:00:00.000000000'\n '2023-04-12T00:00:00.000000000' '2023-12-18T00:00:00.000000000'\n '2023-09-21T00:00:00.000000000' '2023-05-01T00:00:00.000000000'\n '2023-02-05T00:00:00.000000000' '2023-01-24T00:00:00.000000000'\n '2023-01-02T00:00:00.000000000' '2023-06-12T00:00:00.000000000'\n '2023-01-16T00:00:00.000000000' '2023-10-17T00:00:00.000000000'\n '2023-03-04T00:00:00.000000000' '2023-06-17T00:00:00.000000000'\n '2023-03-18T00:00:00.000000000' '2023-08-26T00:00:00.000000000'\n '2023-05-17T00:00:00.000000000' '2023-11-22T00:00:00.000000000'\n '2023-08-17T00:00:00.000000000' '2023-11-19T00:00:00.000000000'\n '2023-11-27T00:00:00.000000000' '2023-06-04T00:00:00.000000000'\n '2023-09-17T00:00:00.000000000' '2023-11-04T00:00:00.000000000'\n '2023-11-28T00:00:00.000000000' '2023-06-25T00:00:00.000000000'\n '2023-04-13T00:00:00.000000000' '2023-01-26T00:00:00.000000000'\n '2023-08-04T00:00:00.000000000' '2023-05-08T00:00:00.000000000'\n '2023-11-20T00:00:00.000000000' '2023-07-13T00:00:00.000000000'\n '2023-09-24T00:00:00.000000000' '2023-01-21T00:00:00.000000000'\n '2023-03-08T00:00:00.000000000' '2023-09-07T00:00:00.000000000'\n '2023-11-30T00:00:00.000000000' '2023-08-02T00:00:00.000000000'\n '2023-04-05T00:00:00.000000000' '2023-08-01T00:00:00.000000000'\n '2023-01-20T00:00:00.000000000' '2023-11-11T00:00:00.000000000'\n '2023-02-13T00:00:00.000000000' '2023-07-30T00:00:00.000000000'\n '2023-02-17T00:00:00.000000000' '2023-05-20T00:00:00.000000000'\n '2023-11-05T00:00:00.000000000' '2023-03-27T00:00:00.000000000'\n '2023-07-03T00:00:00.000000000']\n\n\nValores únicos na coluna 'dia':\n[ 8 16 19 27 11 31  6 28  7  1  3 21 15 10 24 25  4 30 18 13 20  2  9 17\n 29 22 23 26  5 14 12]\n\n\nValores únicos na coluna 'Nome do mes':\n['September' 'May' 'July' 'April' 'June' 'March' 'October' 'December'\n 'November' 'January' 'February' 'August']\n\n\nValores únicos na coluna 'ano':\n[2023]\n\n\nValores únicos na coluna 'Dia da semana':\n['Friday' 'Tuesday' 'Wednesday' 'Thursday' 'Sunday' 'Saturday' 'Monday']\n\n\nValores únicos na coluna 'Com_não_informado':\n['Não' 'Sim']\n\n\nValores únicos na coluna 'Com_Registro_nulo':\n['Não' 'Sim']\n\n\n"
     ]
    }
   ],
   "source": [
    "# CHECANDO SE TODOS OS TRATAMENTOS FORAM FEITOS\n",
    "\n",
    "# Exibir os valores únicos de cada coluna\n",
    "for col in dadosloja_df3.columns:\n",
    "    print(f\"Valores únicos na coluna '{col}':\")\n",
    "    print(dadosloja_df3[col].unique())\n",
    "    print(\"\\n\")"
   ]
  },
  {
   "cell_type": "markdown",
   "metadata": {
    "application/vnd.databricks.v1+cell": {
     "cellMetadata": {
      "byteLimit": 2048000,
      "rowLimit": 10000
     },
     "inputWidgets": {},
     "nuid": "18373d18-1099-4866-a9b8-c072807041ba",
     "showTitle": false,
     "tableResultSettingsMap": {},
     "title": ""
    }
   },
   "source": [
    "%md\n",
    "#### 5. Modelagem de Dados (fatos, dimensões, relacionamentos)\n"
   ]
  },
  {
   "cell_type": "code",
   "execution_count": 0,
   "metadata": {
    "application/vnd.databricks.v1+cell": {
     "cellMetadata": {
      "byteLimit": 2048000,
      "rowLimit": 10000
     },
     "inputWidgets": {},
     "nuid": "c5652842-dbf2-4fe5-ac11-89e9fba3ce50",
     "showTitle": false,
     "tableResultSettingsMap": {},
     "title": ""
    }
   },
   "outputs": [
    {
     "output_type": "stream",
     "name": "stdout",
     "output_type": "stream",
     "text": [
      "Index(['Transaction ID', 'Item', 'Quantity', 'Price Per Unit', 'Total Spent',\n       'Payment Method', 'Location', 'Transaction Date', 'dia', 'Nome do mes',\n       'ano', 'Dia da semana', 'Com_não_informado', 'Com_Registro_nulo'],\n      dtype='object')\n"
     ]
    }
   ],
   "source": [
    "print(dadosloja_df3.columns)"
   ]
  },
  {
   "cell_type": "code",
   "execution_count": 0,
   "metadata": {
    "application/vnd.databricks.v1+cell": {
     "cellMetadata": {
      "byteLimit": 2048000,
      "rowLimit": 10000
     },
     "inputWidgets": {},
     "nuid": "53443d6b-6cef-4f07-883b-bed7e0f81363",
     "showTitle": false,
     "tableResultSettingsMap": {},
     "title": ""
    }
   },
   "outputs": [
    {
     "output_type": "stream",
     "name": "stdout",
     "output_type": "stream",
     "text": [
      "Dimensão Item:\n       Item  ItemID\n0    Coffee       1\n1      Cake       2\n2    Cookie       3\n3     Salad       4\n4  Smoothie       5\n\nDimensão Pagamento:\n   Payment Method  PagamentoID\n0     Credit Card            1\n1            Cash            2\n2   Não informado            3\n3  Digital Wallet            4\n\nDimensão Local:\n        Location  LocalID\n0       Takeaway        1\n1       In-store        2\n2  Não informado        3\n\nDimensão Tempo:\n  Transaction Date  dia Nome do mes   ano Dia da semana  TempoID\n0       2023-09-08    8   September  2023        Friday        1\n1       2023-05-16   16         May  2023       Tuesday        2\n2       2023-07-19   19        July  2023     Wednesday        3\n3       2023-04-27   27       April  2023      Thursday        4\n4       2023-06-11   11        June  2023        Sunday        5\n\nDimensão Qualidade:\n  Com_não_informado Com_Registro_nulo  QualidadeID\n0               Não               Não            1\n1               Sim               Não            2\n2               Não               Sim            3\n3               Sim               Sim            4\n\nFato Vendas:\n  Transaction ID  Quantity  Price Per Unit  ...  LocalID  TempoID  QualidadeID\n0    TXN_1961373         2             2.0  ...        1        1            1\n1    TXN_4977031         4             3.0  ...        2        2            1\n2    TXN_4271903         4             1.0  ...        2        3            1\n3    TXN_7034554         2             5.0  ...        3        4            2\n4    TXN_3160411         2             2.0  ...        2        5            1\n\n[5 rows x 9 columns]\n"
     ]
    }
   ],
   "source": [
    "import pandas as pd\n",
    "\n",
    "# CRIANDO DIMENSÕES E FATO VENDAS\n",
    "\n",
    "# ===============================\n",
    "# \uD83D\uDD39 DIMENSÕES\n",
    "# ===============================\n",
    "\n",
    "# Dimensão Item\n",
    "dim_item = dadosloja_df3[['Item']].drop_duplicates().reset_index(drop=True)\n",
    "dim_item['ItemID'] = dim_item.index + 1\n",
    "\n",
    "# Dimensão Pagamento\n",
    "dim_pagamento = dadosloja_df3[['Payment Method']].drop_duplicates().reset_index(drop=True)\n",
    "dim_pagamento['PagamentoID'] = dim_pagamento.index + 1\n",
    "\n",
    "# Dimensão Local\n",
    "dim_local = dadosloja_df3[['Location']].drop_duplicates().reset_index(drop=True)\n",
    "dim_local['LocalID'] = dim_local.index + 1\n",
    "\n",
    "# Dimensão Tempo\n",
    "dim_tempo = dadosloja_df3[['Transaction Date', 'dia', 'Nome do mes', 'ano', 'Dia da semana']] \\\n",
    "    .drop_duplicates().reset_index(drop=True)\n",
    "dim_tempo['TempoID'] = dim_tempo.index + 1\n",
    "\n",
    "# Dimensão Qualidade (opcional)\n",
    "dim_qualidade = dadosloja_df3[['Com_não_informado', 'Com_Registro_nulo']].drop_duplicates().reset_index(drop=True)\n",
    "dim_qualidade['QualidadeID'] = dim_qualidade.index + 1\n",
    "\n",
    "# ===============================\n",
    "# \uD83D\uDD39 FATO VENDAS\n",
    "# ===============================\n",
    "# Fazendo merge para substituir os textos por IDs das dimensões\n",
    "\n",
    "fato_vendas = dadosloja_df3.merge(dim_item, on='Item', how='left') \\\n",
    "    .merge(dim_pagamento, on='Payment Method', how='left') \\\n",
    "    .merge(dim_local, on='Location', how='left') \\\n",
    "    .merge(dim_tempo, on=['Transaction Date','dia','Nome do mes','ano','Dia da semana'], how='left') \\\n",
    "    .merge(dim_qualidade, on=['Com_não_informado','Com_Registro_nulo'], how='left')\n",
    "\n",
    "# Mantendo apenas colunas da fato\n",
    "fato_vendas = fato_vendas[[\n",
    "    'Transaction ID', 'Quantity', 'Price Per Unit', 'Total Spent',\n",
    "    'ItemID', 'PagamentoID', 'LocalID', 'TempoID', 'QualidadeID'\n",
    "]]\n",
    "\n",
    "# ===============================\n",
    "# \uD83D\uDD39 Exibir resultado\n",
    "# ===============================\n",
    "print(\"Dimensão Item:\")\n",
    "print(dim_item.head())\n",
    "\n",
    "print(\"\\nDimensão Pagamento:\")\n",
    "print(dim_pagamento.head())\n",
    "\n",
    "print(\"\\nDimensão Local:\")\n",
    "print(dim_local.head())\n",
    "\n",
    "print(\"\\nDimensão Tempo:\")\n",
    "print(dim_tempo.head())\n",
    "\n",
    "print(\"\\nDimensão Qualidade:\")\n",
    "print(dim_qualidade.head())\n",
    "\n",
    "print(\"\\nFato Vendas:\")\n",
    "print(fato_vendas.head())\n"
   ]
  },
  {
   "cell_type": "code",
   "execution_count": 0,
   "metadata": {
    "application/vnd.databricks.v1+cell": {
     "cellMetadata": {
      "byteLimit": 2048000,
      "rowLimit": 10000
     },
     "inputWidgets": {},
     "nuid": "6211f6d9-fa64-4c97-9492-1ee60732fccd",
     "showTitle": false,
     "tableResultSettingsMap": {},
     "title": ""
    }
   },
   "outputs": [
    {
     "output_type": "stream",
     "name": "stdout",
     "output_type": "stream",
     "text": [
      "Linhas antes: 10000\nLinhas depois: 10000\n"
     ]
    }
   ],
   "source": [
    "# Confirmando se houve perda de dados (ou erros nos merges)\n",
    "\n",
    "print(f\"Linhas antes: {len(dadosloja_df3)}\")\n",
    "print(f\"Linhas depois: {len(fato_vendas)}\")"
   ]
  },
  {
   "cell_type": "code",
   "execution_count": 0,
   "metadata": {
    "application/vnd.databricks.v1+cell": {
     "cellMetadata": {
      "byteLimit": 2048000,
      "rowLimit": 10000
     },
     "inputWidgets": {},
     "nuid": "1a40b670-89fc-453d-b559-aed28959524b",
     "showTitle": false,
     "tableResultSettingsMap": {},
     "title": ""
    }
   },
   "outputs": [],
   "source": []
  },
  {
   "cell_type": "markdown",
   "metadata": {
    "application/vnd.databricks.v1+cell": {
     "cellMetadata": {
      "byteLimit": 2048000,
      "rowLimit": 10000
     },
     "inputWidgets": {},
     "nuid": "eccd77b9-a4b4-46a1-b891-8e542eec313d",
     "showTitle": false,
     "tableResultSettingsMap": {},
     "title": ""
    }
   },
   "source": [
    "#### 6- Insights (revelação dos dados disponibilizados) & Propostas de Solução"
   ]
  },
  {
   "cell_type": "code",
   "execution_count": 0,
   "metadata": {
    "application/vnd.databricks.v1+cell": {
     "cellMetadata": {
      "byteLimit": 2048000,
      "rowLimit": 10000
     },
     "inputWidgets": {},
     "nuid": "d58d3c06-0b88-427a-acc9-c102a60303b9",
     "showTitle": false,
     "tableResultSettingsMap": {},
     "title": ""
    }
   },
   "outputs": [],
   "source": [
    "# Criando uma cópia do DataFrame tratado anteriormente\n",
    "\n",
    "dadosloja_df4 = dadosloja_df3.copy()\n",
    "display(dadosloja_df4)"
   ]
  },
  {
   "cell_type": "code",
   "execution_count": 0,
   "metadata": {
    "application/vnd.databricks.v1+cell": {
     "cellMetadata": {
      "byteLimit": 2048000,
      "rowLimit": 10000
     },
     "inputWidgets": {},
     "nuid": "4ff66a94-e49e-4c0d-b097-f36f159dd2b0",
     "showTitle": false,
     "tableResultSettingsMap": {
      "0": {
       "dataGridStateBlob": null,
       "filterBlob": "{\"version\":1,\"filterGroups\":[],\"syncTimestamp\":1757108612665}",
       "queryPlanFiltersBlob": "[]",
       "tableResultIndex": 0
      }
     },
     "title": ""
    }
   },
   "outputs": [],
   "source": [
    "#  Criando coluna Classificação_vendas\n",
    "\n",
    "# Criar a coluna \"Classificação_vendas\" com base nas condições especificadas\n",
    "dadosloja_df4[\"Classificação_vendas\"] = dadosloja_df4[\"Total Spent\"].apply(\n",
    "    lambda x: \"Venda_C_Erro\" if pd.isnull(x) else\n",
    "              \"Venda Baixa\" if 1 <= x <= 10 else\n",
    "              \"Venda Média\" if 10 < x <= 20 else\n",
    "              \"Venda Alta\" if x > 20 else None\n",
    ")\n",
    "\n",
    "# Exibir o DataFrame atualizado\n",
    "display(dadosloja_df4)"
   ]
  },
  {
   "cell_type": "markdown",
   "metadata": {
    "application/vnd.databricks.v1+cell": {
     "cellMetadata": {
      "byteLimit": 2048000,
      "rowLimit": 10000
     },
     "inputWidgets": {},
     "nuid": "5f2d8cdd-3bd5-40b5-b7f4-eb9b52d9da4c",
     "showTitle": false,
     "tableResultSettingsMap": {},
     "title": ""
    }
   },
   "source": [
    "#### 2-Respostas as perguntas da empresa\n",
    "➤ **[1]** Quais produtos com maior impacto no faturamento.?\n",
    "\n",
    "➤ **[2]** Por que certos produtos têm baixa venda?<br/>\n",
    "-Coffee  >>   11.50% de registros não Informados  \n",
    "-Tea  >>  10.16% de registros não Informados  \n",
    "-Cookie  >>  9.64% de registros não Informados \n",
    "\n",
    "➤ **[3]** classificar os produtos de baixo, médio e alto venda.\n",
    "\n",
    "➤ **[4]** quais dias da semana tiveram mais vendas.\n",
    "\n",
    "➤ **[5]** qual dia que menos vende no Mês?\n",
    "\n",
    "➤ **[7]** Qual localização tem maior potencial de crescimento?\n",
    "\n",
    "➤ **[8]** Aumentar a receita média por itens \n",
    "\n",
    "➤ **[9]** Melhorar a performance de produtos com baixa rotação.\n"
   ]
  },
  {
   "cell_type": "code",
   "execution_count": 0,
   "metadata": {
    "application/vnd.databricks.v1+cell": {
     "cellMetadata": {
      "byteLimit": 2048000,
      "rowLimit": 10000
     },
     "inputWidgets": {},
     "nuid": "7ef894ea-6e83-4a2a-baa0-91e30a2e84d8",
     "showTitle": false,
     "tableResultSettingsMap": {},
     "title": ""
    }
   },
   "outputs": [],
   "source": [
    "# 1- produtos com maior impacto no faturamento menos o item Não informado\n",
    "\n",
    "# Filtrar os dados para incluir apenas 'Item' diferente de 'Não informado'\n",
    "dados_filtrados = dadosloja_df4[dadosloja_df4['Item'] != 'Não informado']\n",
    "\n",
    "# Agrupar os dados por 'Item' e somar o 'Total Spent' para cada produto\n",
    "faturamento_por_produto = dados_filtrados.groupby('Item')['Total Spent'].sum().reset_index()\n",
    "\n",
    "# Ordenar os produtos pelo 'Total Spent' em ordem decrescente\n",
    "faturamento_por_produto = faturamento_por_produto.sort_values(by='Total Spent', ascending=False)\n",
    "\n",
    "# Criar gráfico de barras lateral com números totais em cada barra\n",
    "plt.figure(figsize=(10, 8))\n",
    "barplot = sns.barplot(x='Total Spent', y='Item', data=faturamento_por_produto, orient='h')\n",
    "plt.title('Produtos com Maior Impacto no Faturamento (Excluindo \"Não informado\")')\n",
    "plt.xlabel('Total Spent')\n",
    "plt.ylabel('Item')\n",
    "\n",
    "# Adicionar números totais em cada barra\n",
    "for index, value in enumerate(faturamento_por_produto['Total Spent']):\n",
    "    barplot.text(value, index, f'{value:.2f}', va='center')\n",
    "\n",
    "plt.show()\n",
    "\n"
   ]
  },
  {
   "cell_type": "markdown",
   "metadata": {
    "application/vnd.databricks.v1+cell": {
     "cellMetadata": {
      "byteLimit": 2048000,
      "rowLimit": 10000
     },
     "inputWidgets": {},
     "nuid": "2855d101-2487-413d-969e-c63778d7a68e",
     "showTitle": false,
     "tableResultSettingsMap": {},
     "title": ""
    }
   },
   "source": [
    "*[2]** _Por que certos produtos têm baixa venda?\n",
    "Coffee(Quant=2), Tea e Cookie"
   ]
  },
  {
   "cell_type": "code",
   "execution_count": 0,
   "metadata": {
    "application/vnd.databricks.v1+cell": {
     "cellMetadata": {
      "byteLimit": 2048000,
      "rowLimit": 10000
     },
     "inputWidgets": {},
     "nuid": "706cece4-824e-4eff-9ea9-610f578cfdf6",
     "showTitle": false,
     "tableResultSettingsMap": {
      "0": {
       "dataGridStateBlob": "{\"version\":1,\"tableState\":{\"columnPinning\":{\"left\":[\"#row_number#\"],\"right\":[]},\"columnSizing\":{},\"columnVisibility\":{}},\"settings\":{\"columns\":{}},\"syncTimestamp\":1757119916438}",
       "filterBlob": "{\"version\":1,\"filterGroups\":[{\"enabled\":true,\"filterGroupId\":\"fg_30902acf\",\"op\":\"OR\",\"filters\":[{\"filterId\":\"f_17dac925\",\"enabled\":true,\"columnId\":\"dia\",\"dataType\":\"integer\",\"filterType\":\"oneof\",\"filterValues\":[1],\"filterConfig\":{\"caseSensitive\":true}}],\"local\":false,\"updatedAt\":1757124971554}],\"syncTimestamp\":1757124971554}",
       "queryPlanFiltersBlob": "[{\"kind\":\"call\",\"function\":\"or\",\"args\":[{\"kind\":\"call\",\"function\":\"in\",\"args\":[{\"kind\":\"identifier\",\"identifier\":\"dia\"},{\"kind\":\"literal\",\"value\":1,\"type\":\"integer\"}]}]}]",
       "tableResultIndex": 0
      }
     },
     "title": ""
    }
   },
   "outputs": [],
   "source": [
    "display(dadosloja_df4)\n"
   ]
  },
  {
   "cell_type": "code",
   "execution_count": 0,
   "metadata": {
    "application/vnd.databricks.v1+cell": {
     "cellMetadata": {
      "byteLimit": 2048000,
      "rowLimit": 10000
     },
     "inputWidgets": {},
     "nuid": "4ea47443-dd3e-44e6-95ee-d67d333dad37",
     "showTitle": false,
     "tableResultSettingsMap": {},
     "title": ""
    }
   },
   "outputs": [],
   "source": [
    "# Filtrar os dados para incluir apenas 'Item' igual a 'Cookie' e 'Com_não_informado' igual a 'Sim'\n",
    "Cookie_nao_informado = dadosloja_df4[(dadosloja_df4['Item'] == 'Cookie') & (dadosloja_df4['Com_não_informado'] == 'Sim')]\n",
    "\n",
    "# Calcular a porcentagem de 'Cookie' com 'Com_não_informado' igual a 'Sim'\n",
    "percent_Cookie_nao_informado = (Cookie_nao_informado.shape[0] / dadosloja_df4[dadosloja_df4['Com_não_informado'] == 'Sim'].shape[0]) * 100\n",
    "\n",
    "# Exibir a porcentagem\n",
    "print(f\"Porcentagem de 'Cookie' com 'Com_não_informado' = 'Sim': {percent_Cookie_nao_informado:.2f}%\")\n",
    "\n",
    "# Criar gráfico de pizza\n",
    "labels = ['Cookie com Não Informado', 'Outros com Não Informado']\n",
    "sizes = [percent_Cookie_nao_informado, 100 - percent_Cookie_nao_informado]\n",
    "colors = ['#ff9999','#66b3ff']\n",
    "explode = (0.1, 0)  # Explode a fatia 'Cookie com Não Informado'\n",
    "\n",
    "plt.figure(figsize=(8, 8))\n",
    "plt.pie(sizes, explode=explode, labels=labels, colors=colors, autopct='%1.1f%%', startangle=90)\n",
    "plt.title('Porcentagem de Cookie com \"Com_não_informado\" = \"Sim\"')\n",
    "plt.show()"
   ]
  },
  {
   "cell_type": "code",
   "execution_count": 0,
   "metadata": {
    "application/vnd.databricks.v1+cell": {
     "cellMetadata": {
      "byteLimit": 2048000,
      "rowLimit": 10000
     },
     "inputWidgets": {},
     "nuid": "8148ad48-11e9-456a-b44f-8c1784d6c650",
     "showTitle": false,
     "tableResultSettingsMap": {},
     "title": ""
    }
   },
   "outputs": [],
   "source": [
    "# Filtrar os dados para 'Item' = 'Tea' e 'Com_não_informado' = 'Sim'\n",
    "tea_nao_informado = dadosloja_df4[(dadosloja_df4['Item'] == 'Tea') & (dadosloja_df4['Com_não_informado'] == 'Sim')]\n",
    "\n",
    "# Calcular a porcentagem\n",
    "percent_tea_nao_informado = (tea_nao_informado.shape[0] / dadosloja_df4[dadosloja_df4['Com_não_informado'] == 'Sim'].shape[0]) * 100\n",
    "\n",
    "# Exibir a porcentagem\n",
    "print(f\"Porcentagem de 'Tea' com 'Com_não_informado' = 'Sim': {percent_tea_nao_informado:.2f}%\")\n",
    "\n",
    "# Criar gráfico de pizza\n",
    "import matplotlib.pyplot as plt\n",
    "\n",
    "# Dados para o gráfico de pizza\n",
    "labels = ['Tea com Com_não_informado = Sim', 'Outros']\n",
    "sizes = [percent_tea_nao_informado, 100 - percent_tea_nao_informado]\n",
    "\n",
    "# Plotar gráfico de pizza\n",
    "plt.figure(figsize=(8, 8))\n",
    "plt.pie(sizes, labels=labels, autopct='%1.1f%%', startangle=140)\n",
    "plt.title('Porcentagem de Tea com Com_não_informado = Sim')\n",
    "plt.show()"
   ]
  },
  {
   "cell_type": "code",
   "execution_count": 0,
   "metadata": {
    "application/vnd.databricks.v1+cell": {
     "cellMetadata": {
      "byteLimit": 2048000,
      "rowLimit": 10000
     },
     "inputWidgets": {},
     "nuid": "1e3e089e-5d01-4d0b-aba0-0f3d77c3bd48",
     "showTitle": false,
     "tableResultSettingsMap": {},
     "title": ""
    }
   },
   "outputs": [],
   "source": [
    "# Filtrar os dados para incluir apenas 'Com_não_informado' = 'Sim'\n",
    "dados_filtrados = dadosloja_df4[dadosloja_df4['Com_não_informado'] == 'Sim']\n",
    "\n",
    "# Calcular a porcentagem de 'Item' = 'Coffee' em relação ao total de 'Com_não_informado' = 'Sim'\n",
    "percent_Coffee = (dados_filtrados[dados_filtrados['Item'] == 'Coffee'].shape[0] / dados_filtrados.shape[0]) * 100\n",
    "\n",
    "# Exibir a porcentagem\n",
    "print(f\"Porcentagem de 'Item' = 'Coffee' com 'Com_não_informado' = 'Sim': {percent_Coffee:.2f}%\")\n",
    "\n",
    "# Criar gráfico de pizza\n",
    "labels = ['Coffee', 'Outros']\n",
    "sizes = [percent_Coffee, 100 - percent_Coffee]\n",
    "colors = ['#ff9999','#66b3ff']\n",
    "explode = (0.1, 0)  # Explode a fatia 'Coffee'\n",
    "\n",
    "plt.figure(figsize=(8, 8))\n",
    "plt.pie(sizes, explode=explode, labels=labels, colors=colors, autopct='%1.1f%%', startangle=140)\n",
    "plt.title('Porcentagem de Item Coffee com Com_não_informado = Sim')\n",
    "plt.show()"
   ]
  },
  {
   "cell_type": "code",
   "execution_count": 0,
   "metadata": {
    "application/vnd.databricks.v1+cell": {
     "cellMetadata": {
      "byteLimit": 2048000,
      "rowLimit": 10000
     },
     "inputWidgets": {},
     "nuid": "d3d9e359-4484-4a03-b178-148c46485fa0",
     "showTitle": false,
     "tableResultSettingsMap": {
      "0": {
       "dataGridStateBlob": "{\"version\":1,\"tableState\":{\"columnPinning\":{\"left\":[\"#row_number#\"],\"right\":[]},\"columnSizing\":{},\"columnVisibility\":{}},\"settings\":{\"columns\":{}},\"syncTimestamp\":1757205457213}",
       "filterBlob": null,
       "queryPlanFiltersBlob": null,
       "tableResultIndex": 0
      }
     },
     "title": ""
    }
   },
   "outputs": [],
   "source": [
    "display(dadosloja_df4)"
   ]
  },
  {
   "cell_type": "code",
   "execution_count": 0,
   "metadata": {
    "application/vnd.databricks.v1+cell": {
     "cellMetadata": {
      "byteLimit": 2048000,
      "rowLimit": 10000
     },
     "inputWidgets": {},
     "nuid": "6786411a-0676-48c2-9aea-761565e4a2c6",
     "showTitle": false,
     "tableResultSettingsMap": {},
     "title": ""
    }
   },
   "outputs": [],
   "source": [
    "# qual dia(coluna dia) que menos venda no Mês? crie um gráfico Scatter\n",
    "\n",
    "# Agrupar os dados por 'Dia' e somar o 'Total Spent'\n",
    "vendas_por_dia = dadosloja_df4.groupby('dia')['Total Spent'].sum().reset_index()\n",
    "\n",
    "# Encontrar o dia com menor venda\n",
    "dia_menor_venda = vendas_por_dia.loc[vendas_por_dia['Total Spent'].idxmin()]\n",
    "\n",
    "# Criar gráfico de dispersão (Scatter)\n",
    "plt.figure(figsize=(10, 5))\n",
    "sns.scatterplot(x='dia', y='Total Spent', data=vendas_por_dia)\n",
    "plt.axvline(dia_menor_venda['dia'], color='r', linestyle='--', label=f'Menor Venda: Dia {dia_menor_venda[\"dia\"]}')\n",
    "plt.title('Vendas por Dia do Mês')\n",
    "plt.xlabel('Dia do Mês')\n",
    "plt.ylabel('Total Spent')\n",
    "plt.legend()\n",
    "plt.show()\n",
    "\n",
    "# Exibir o dia com menor venda\n",
    "print(f\"Dia com menor venda: {dia_menor_venda['dia']} com Total Spent de {dia_menor_venda['Total Spent']:.2f}\")"
   ]
  },
  {
   "cell_type": "code",
   "execution_count": 0,
   "metadata": {
    "application/vnd.databricks.v1+cell": {
     "cellMetadata": {
      "byteLimit": 2048000,
      "rowLimit": 10000
     },
     "inputWidgets": {},
     "nuid": "efc737e0-6ba9-4a7c-aff3-fc656a92a3e6",
     "showTitle": false,
     "tableResultSettingsMap": {},
     "title": ""
    }
   },
   "outputs": [
    {
     "output_type": "execute_result",
     "data": {
      "text/plain": [
       "count      9006.0\n",
       "mean     8.936098\n",
       "std      5.994375\n",
       "min           1.0\n",
       "10%           3.0\n",
       "50%           8.0\n",
       "90%          20.0\n",
       "max          25.0\n",
       "Name: Total Spent, dtype: Float64"
      ]
     },
     "execution_count": 39,
     "metadata": {},
     "output_type": "execute_result"
    }
   ],
   "source": [
    "# Investigando Outlier de vends no dia 1\n",
    "\n",
    "dadosloja_df4['Total Spent'].describe(percentiles=[0.1, 0.9])"
   ]
  },
  {
   "cell_type": "markdown",
   "metadata": {
    "application/vnd.databricks.v1+cell": {
     "cellMetadata": {
      "byteLimit": 2048000,
      "rowLimit": 10000
     },
     "inputWidgets": {},
     "nuid": "4a9c53ac-37eb-4e9e-8b15-3b468cc18f8d",
     "showTitle": false,
     "tableResultSettingsMap": {},
     "title": ""
    }
   },
   "source": [
    "\uD83D\uDCA1 **Descoberta sobre a possibilidade de Outliers das vendas somente no dia 1**<br/>\n",
    "\n",
    "Média > Mediana - Há clientes que gastam muito mais<br/> \n",
    "Q1 = 3.0 - Muitos clientes gastam pouco <br/>\n",
    "Q3 = 20.0 - 75% dos clientes gastam até R$ 20<br/>\n",
    "Max = 25.0 - **Valores altos existem, mas não são extremos → não são outliers**\n",
    "\n",
    "✅ **Conclusão**<br/>\n",
    "Essas estatísticas mostram que:<br/>\n",
    "O cliente típico gasta cerca de R$ 8,94 por transação.<br/>\n",
    "**Há uma grande variedade de gastos — desde R$ 1 até R$ 25.**<br/>\n",
    "A distribuição é assimétrica, com alguns clientes gastando muito mais."
   ]
  },
  {
   "cell_type": "code",
   "execution_count": 0,
   "metadata": {
    "application/vnd.databricks.v1+cell": {
     "cellMetadata": {
      "byteLimit": 2048000,
      "rowLimit": 10000
     },
     "inputWidgets": {},
     "nuid": "e8af85f5-3a83-4430-9938-cf1d9985a313",
     "showTitle": false,
     "tableResultSettingsMap": {},
     "title": ""
    }
   },
   "outputs": [],
   "source": [
    "# Vendas por Dia da Semana\n",
    "\n",
    "# Criar uma coluna para o dia da semana\n",
    "dadosloja_df4['Dia da Semana'] = dadosloja_df4['Transaction Date'].dt.day_name()\n",
    "\n",
    "# Agrupar os dados por 'Dia da Semana' e somar o 'Total Spent'\n",
    "vendas_por_dia = dadosloja_df4.groupby('Dia da Semana')['Total Spent'].sum().reindex([\n",
    "    'Monday', 'Tuesday', 'Wednesday', 'Thursday', 'Friday', 'Saturday', 'Sunday'\n",
    "]).reset_index()\n",
    "\n",
    "# Criar gráfico de barras\n",
    "plt.figure(figsize=(10, 5))\n",
    "sns.barplot(x='Dia da Semana', y='Total Spent', data=vendas_por_dia)\n",
    "plt.title('Vendas por Dia da Semana')\n",
    "plt.xlabel('Dia da Semana')\n",
    "plt.ylabel('Total Spent')\n",
    "plt.xticks(rotation=45)\n",
    "plt.show()"
   ]
  },
  {
   "cell_type": "code",
   "execution_count": 0,
   "metadata": {
    "application/vnd.databricks.v1+cell": {
     "cellMetadata": {
      "byteLimit": 2048000,
      "rowLimit": 10000
     },
     "inputWidgets": {},
     "nuid": "889eadbd-903b-483a-9f52-01e3b2cd6da8",
     "showTitle": false,
     "tableResultSettingsMap": {
      "0": {
       "dataGridStateBlob": null,
       "filterBlob": "{\"version\":1,\"filterGroups\":[{\"enabled\":true,\"filterGroupId\":\"fg_84fee32b\",\"op\":\"OR\",\"filters\":[{\"filterId\":\"f_23948a70\",\"enabled\":true,\"columnId\":\"Item\",\"dataType\":\"string\",\"filterType\":\"oneof\",\"filterConfig\":{}}],\"local\":false,\"updatedAt\":1757103029974}],\"syncTimestamp\":1757103030006}",
       "queryPlanFiltersBlob": "[]",
       "tableResultIndex": 0
      }
     },
     "title": ""
    }
   },
   "outputs": [
    {
     "output_type": "display_data",
     "data": {
      "text/html": [
       "<style scoped>\n",
       "  .table-result-container {\n",
       "    max-height: 300px;\n",
       "    overflow: auto;\n",
       "  }\n",
       "  table, th, td {\n",
       "    border: 1px solid black;\n",
       "    border-collapse: collapse;\n",
       "  }\n",
       "  th, td {\n",
       "    padding: 5px;\n",
       "  }\n",
       "  th {\n",
       "    text-align: left;\n",
       "  }\n",
       "</style><div class='table-result-container'><table class='table-result'><thead style='background-color: white'><tr><th>Item</th><th>Total Spent</th></tr></thead><tbody><tr><td>Cookie</td><td>2898.0</td></tr><tr><td>Tea</td><td>4431.0</td></tr><tr><td>Coffee</td><td>6424.0</td></tr><tr><td>Não informado</td><td>7596.5</td></tr><tr><td>Cake</td><td>9540.0</td></tr><tr><td>Juice</td><td>9561.0</td></tr><tr><td>Smoothie</td><td>12132.0</td></tr><tr><td>Sandwich</td><td>12296.0</td></tr><tr><td>Salad</td><td>15600.0</td></tr></tbody></table></div>"
      ]
     },
     "metadata": {
      "application/vnd.databricks.v1+output": {
       "addedWidgets": {},
       "aggData": [],
       "aggError": "",
       "aggOverflow": false,
       "aggSchema": [],
       "aggSeriesLimitReached": false,
       "aggType": "",
       "arguments": {},
       "columnCustomDisplayInfos": {},
       "data": [
        [
         "Cookie",
         2898.0
        ],
        [
         "Tea",
         4431.0
        ],
        [
         "Coffee",
         6424.0
        ],
        [
         "Não informado",
         7596.5
        ],
        [
         "Cake",
         9540.0
        ],
        [
         "Juice",
         9561.0
        ],
        [
         "Smoothie",
         12132.0
        ],
        [
         "Sandwich",
         12296.0
        ],
        [
         "Salad",
         15600.0
        ]
       ],
       "datasetInfos": [],
       "dbfsResultPath": null,
       "isJsonSchema": true,
       "metadata": {},
       "overflow": false,
       "plotOptions": {
        "customPlotOptions": {},
        "displayType": "table",
        "pivotAggregation": null,
        "pivotColumns": null,
        "xColumns": null,
        "yColumns": null
       },
       "removedWidgets": [],
       "schema": [
        {
         "metadata": "{}",
         "name": "Item",
         "type": "\"string\""
        },
        {
         "metadata": "{}",
         "name": "Total Spent",
         "type": "\"double\""
        }
       ],
       "type": "table"
      }
     },
     "output_type": "display_data"
    }
   ],
   "source": [
    "# Produtos com baixa venda\n",
    "\n",
    "# Agrupar os dados por 'Item' e somar o 'Total Spent' para cada produto\n",
    "vendas_por_produto = dadosloja_df4.groupby('Item')['Total Spent'].sum().reset_index()\n",
    "\n",
    "# Ordenar os produtos pelo 'Total Spent' em ordem crescente\n",
    "vendas_por_produto = vendas_por_produto.sort_values(by='Total Spent', ascending=True)\n",
    "\n",
    "# Exibir os produtos com baixa venda\n",
    "display(vendas_por_produto)"
   ]
  },
  {
   "cell_type": "code",
   "execution_count": 0,
   "metadata": {
    "application/vnd.databricks.v1+cell": {
     "cellMetadata": {
      "byteLimit": 2048000,
      "rowLimit": 10000
     },
     "inputWidgets": {},
     "nuid": "57e62323-d047-4f07-a358-2aa2baff9a11",
     "showTitle": false,
     "tableResultSettingsMap": {},
     "title": ""
    }
   },
   "outputs": [],
   "source": [
    "# Calcular a porcentagem de 'Item' = 'Não informado'\n",
    "\n",
    "percent_nao_informado = (dadosloja_df4[dadosloja_df3['Item'] == 'Não informado'].shape[0] / dadosloja_df4.shape[0]) * 100\n",
    "\n",
    "# Exibir a porcentagem\n",
    "print(f\"Porcentagem de 'Item' = 'Não informado': {percent_nao_informado:.2f}%\")\n",
    "\n",
    "# Criar gráfico de barras\n",
    "import matplotlib.pyplot as plt\n",
    "\n",
    "# Contar a frequência de cada valor na coluna 'Item'\n",
    "item_counts = dadosloja_df4['Item'].value_counts()\n",
    "\n",
    "# Plotar gráfico de barras\n",
    "plt.figure(figsize=(10, 5))\n",
    "item_counts.plot(kind='bar')\n",
    "plt.title('Frequência de Itens')\n",
    "plt.xlabel('Item')\n",
    "plt.ylabel('Frequência')\n",
    "plt.xticks(rotation=45)\n",
    "plt.show()"
   ]
  },
  {
   "cell_type": "code",
   "execution_count": 0,
   "metadata": {
    "application/vnd.databricks.v1+cell": {
     "cellMetadata": {
      "byteLimit": 2048000,
      "rowLimit": 10000
     },
     "inputWidgets": {},
     "nuid": "24c6b581-b250-429a-b92d-933c9432c427",
     "showTitle": false,
     "tableResultSettingsMap": {
      "0": {
       "dataGridStateBlob": "{\"version\":1,\"tableState\":{\"columnPinning\":{\"left\":[\"#row_number#\"],\"right\":[]},\"columnSizing\":{},\"columnVisibility\":{}},\"settings\":{\"columns\":{}},\"syncTimestamp\":1757208728052}",
       "filterBlob": null,
       "queryPlanFiltersBlob": null,
       "tableResultIndex": 0
      }
     },
     "title": ""
    }
   },
   "outputs": [],
   "source": [
    "display(dadosloja_df4)"
   ]
  },
  {
   "cell_type": "code",
   "execution_count": 0,
   "metadata": {
    "application/vnd.databricks.v1+cell": {
     "cellMetadata": {
      "byteLimit": 2048000,
      "rowLimit": 10000
     },
     "inputWidgets": {},
     "nuid": "544dab9f-b8c7-41a9-ba4f-dff16cf7873d",
     "showTitle": false,
     "tableResultSettingsMap": {},
     "title": ""
    }
   },
   "outputs": [],
   "source": [
    "#  Qual localização tem maior potencial de crescimento?\n",
    "\n",
    "# Contar a frequência de cada valor na coluna 'Location'\n",
    "location_counts = dadosloja_df4['Location'].value_counts()\n",
    "\n",
    "# Criar gráfico de pizza\n",
    "plt.figure(figsize=(8, 8))\n",
    "plt.pie(location_counts, labels=location_counts.index, autopct='%1.1f%%', startangle=90)\n",
    "plt.title('Distribuição de Localizações')\n",
    "plt.show()"
   ]
  },
  {
   "cell_type": "markdown",
   "metadata": {
    "application/vnd.databricks.v1+cell": {
     "cellMetadata": {
      "byteLimit": 2048000,
      "rowLimit": 10000
     },
     "inputWidgets": {},
     "nuid": "2c58846a-b00f-4297-af15-b0b5feae2cad",
     "showTitle": false,
     "tableResultSettingsMap": {},
     "title": ""
    }
   },
   "source": [
    "✅ **Conclusão:**<br/> Qual tem maior potencial de crescimento?\n",
    "❌ Nem In-store nem Takeaway têm maior potencial — porque:\n",
    "Elas já têm mesmo desempenho.\n",
    "Não há evidência de que uma seja melhor que a outra.<br/>\n",
    "✅ **A verdadeira oportunidade está em \"Não informado\".** \n",
    "\n",
    "\uD83D\uDCA1 Insight Estratégico<br/>\n",
    "**O potencial de crescimento está na redução de \"Não informado\".** \n",
    "\n",
    "Por quê?<br/>\n",
    "Se identificar onde essas transações estão acontecendo, pode:<br/>\n",
    "Criar estratégias específicas para cada local.\n",
    "Melhorar o registro de dados.\n",
    "Descobrir novos mercados (ex: delivery, eventos)."
   ]
  },
  {
   "cell_type": "code",
   "execution_count": 0,
   "metadata": {
    "application/vnd.databricks.v1+cell": {
     "cellMetadata": {
      "byteLimit": 2048000,
      "rowLimit": 10000
     },
     "inputWidgets": {},
     "nuid": "a540ee8c-8065-4f53-9c92-62515f2da606",
     "showTitle": false,
     "tableResultSettingsMap": {
      "0": {
       "dataGridStateBlob": "{\"version\":1,\"tableState\":{\"columnPinning\":{\"left\":[\"#row_number#\"],\"right\":[]},\"columnSizing\":{},\"columnVisibility\":{}},\"settings\":{\"columns\":{}},\"syncTimestamp\":1757278066486}",
       "filterBlob": null,
       "queryPlanFiltersBlob": null,
       "tableResultIndex": 0
      }
     },
     "title": ""
    }
   },
   "outputs": [
    {
     "output_type": "display_data",
     "data": {
      "text/html": [
       "<style scoped>\n",
       "  .table-result-container {\n",
       "    max-height: 300px;\n",
       "    overflow: auto;\n",
       "  }\n",
       "  table, th, td {\n",
       "    border: 1px solid black;\n",
       "    border-collapse: collapse;\n",
       "  }\n",
       "  th, td {\n",
       "    padding: 5px;\n",
       "  }\n",
       "  th {\n",
       "    text-align: left;\n",
       "  }\n",
       "</style><div class='table-result-container'><table class='table-result'><thead style='background-color: white'><tr><th>Item</th><th>Total Spent</th></tr></thead><tbody><tr><td>Salad</td><td>15.145631067961165</td></tr><tr><td>Smoothie</td><td>12.20523138832998</td></tr><tr><td>Sandwich</td><td>12.031311154598827</td></tr><tr><td>Cake</td><td>9.155470249520153</td></tr><tr><td>Juice</td><td>8.994355597365946</td></tr><tr><td>Não informado</td><td>8.843422584400466</td></tr><tr><td>Coffee</td><td>6.129770992366412</td></tr><tr><td>Tea</td><td>4.558641975308642</td></tr><tr><td>Cookie</td><td>2.9692622950819674</td></tr></tbody></table></div>"
      ]
     },
     "metadata": {
      "application/vnd.databricks.v1+output": {
       "addedWidgets": {},
       "aggData": [],
       "aggError": "",
       "aggOverflow": false,
       "aggSchema": [],
       "aggSeriesLimitReached": false,
       "aggType": "",
       "arguments": {},
       "columnCustomDisplayInfos": {},
       "data": [
        [
         "Salad",
         15.145631067961165
        ],
        [
         "Smoothie",
         12.20523138832998
        ],
        [
         "Sandwich",
         12.031311154598827
        ],
        [
         "Cake",
         9.155470249520153
        ],
        [
         "Juice",
         8.994355597365946
        ],
        [
         "Não informado",
         8.843422584400466
        ],
        [
         "Coffee",
         6.129770992366412
        ],
        [
         "Tea",
         4.558641975308642
        ],
        [
         "Cookie",
         2.9692622950819674
        ]
       ],
       "datasetInfos": [],
       "dbfsResultPath": null,
       "isJsonSchema": true,
       "metadata": {},
       "overflow": false,
       "plotOptions": {
        "customPlotOptions": {},
        "displayType": "table",
        "pivotAggregation": null,
        "pivotColumns": null,
        "xColumns": null,
        "yColumns": null
       },
       "removedWidgets": [],
       "schema": [
        {
         "metadata": "{}",
         "name": "Item",
         "type": "\"string\""
        },
        {
         "metadata": "{}",
         "name": "Total Spent",
         "type": "\"double\""
        }
       ],
       "type": "table"
      }
     },
     "output_type": "display_data"
    }
   ],
   "source": [
    "# Como aumentar a receita média por item .\n",
    "\n",
    "# Agrupar os dados por 'Item' e calcular a receita média por item\n",
    "receita_media_por_item = dadosloja_df4.groupby('Item')['Total Spent'].mean().reset_index()\n",
    "\n",
    "# Ordenar os itens pela receita média em ordem decrescente\n",
    "receita_media_por_item = receita_media_por_item.sort_values(by='Total Spent', ascending=False)\n",
    "\n",
    "# Exibir os itens com maior receita média\n",
    "display(receita_media_por_item)"
   ]
  },
  {
   "cell_type": "markdown",
   "metadata": {
    "application/vnd.databricks.v1+cell": {
     "cellMetadata": {
      "byteLimit": 2048000,
      "rowLimit": 10000
     },
     "inputWidgets": {},
     "nuid": "6aa6b9e5-40bd-42fd-b987-e2189abe583f",
     "showTitle": false,
     "tableResultSettingsMap": {},
     "title": ""
    }
   },
   "source": [
    "\n",
    "\uD83D\uDCC8 **Estratégias para aumentar a receita média por item**\n",
    "\n",
    "**Aumentar Quantidade Vendida**\n",
    "\n",
    "Promoções, combos ou cross-sell (ex.: Café + Cookie).\n",
    "\n",
    "Criar planos de fidelidade para estimular compras repetidas.\n",
    "\n",
    "**Aumentar Preço Unitário**\n",
    "\n",
    "Reposicionar itens de baixo preço (como Cookie e Tea) oferecendo versões “premium” (mais recheio, ingredientes diferenciados).\n",
    "\n",
    "Incluir extras opcionais com valor agregado (coberturas, tamanhos maiores).\n",
    "\n",
    "**Reduzir o impacto dos itens de baixa receita**\n",
    "\n",
    "Reavaliar se vale a pena manter itens com baixa margem (como Cookie) ou reposicionar para aumentar sua atratividade.\n",
    "\n",
    "**Mix de Produtos**\n",
    "\n",
    "Estimular os itens de maior ticket médio (Salad, Smoothie, Sandwich) através de destaque no cardápio ou marketing.\n",
    "\n",
    "**Segmentação de Clientes**\n",
    "\n",
    "Clientes de takeaway tendem a gastar menos → oferecer descontos em combos.\n",
    "\n",
    "Clientes in-store tendem a gastar mais → oferecer upsell (ex.: sobremesas, bebidas extras).\n",
    "\n",
    "\n",
    "\n",
    "\n",
    "\n"
   ]
  },
  {
   "cell_type": "markdown",
   "metadata": {
    "application/vnd.databricks.v1+cell": {
     "cellMetadata": {
      "byteLimit": 2048000,
      "rowLimit": 10000
     },
     "inputWidgets": {},
     "nuid": "580f3fda-fb82-4a52-8166-ca3d8cdb84b0",
     "showTitle": false,
     "tableResultSettingsMap": {},
     "title": ""
    }
   },
   "source": [
    "\uD83D\uDD27 **Estratégias para melhorar produtos de baixa rotação**\n",
    "\n",
    "**1. Promoções direcionadas**\n",
    "\n",
    "Criar combos com itens de alta rotação (ex.: “Café + Cookie por um preço especial”).\n",
    "\n",
    "Oferecer descontos progressivos: “leve 3 Cookies, pague 2”.\n",
    "\n",
    "**2. Reposicionamento do produto**\n",
    "\n",
    "Ajustar embalagem, porções ou apresentação para dar mais valor percebido.\n",
    "\n",
    "Criar versões diferenciadas (sabores novos, edições limitadas).\n",
    "\n",
    "**3. Destaque no ponto de venda**\n",
    "\n",
    "Reposicionar esses itens no cardápio ou prateleira para maior visibilidade.\n",
    "\n",
    "Sugerir o produto como acompanhamento natural (ex.: “Cookie como sobremesa do Sandwich”).\n",
    "\n",
    "**4. Estratégias digitais**\n",
    "\n",
    "Usar campanhas em redes sociais com foco nesses itens.\n",
    "\n",
    "Criar gatilhos de escassez: “Edição limitada de Cookies esta semana”.\n",
    "\n",
    "**5. Ajuste de precificação**\n",
    "\n",
    "Testar redução de preço para aumentar volume vendido.\n",
    "\n",
    "Alternativamente, criar uma versão premium com maior margem.\n",
    "\n",
    "**6. Entender o cliente**\n",
    "\n",
    "Analisar dados: quem compra pouco Cookie/Tea? Em qual local? Em qual método de pagamento?\n",
    "\n",
    "Ajustar a estratégia para o público correto (ex.: Tea pode ser promovido para clientes que pedem Salad → público mais saudável).\n",
    "\n",
    "✅ Em resumo:\n",
    "\n",
    "Produtos de baixa rotação não precisam ser eliminados → podem ser reposicionados.\n",
    "\n",
    "O segredo é associar a produtos fortes, dar visibilidade e criar desejo.\n",
    "\n",
    "Use os dados de vendas para segmentar onde atacar: local, canal de venda, público."
   ]
  },
  {
   "cell_type": "markdown",
   "metadata": {
    "application/vnd.databricks.v1+cell": {
     "cellMetadata": {
      "byteLimit": 2048000,
      "rowLimit": 10000
     },
     "inputWidgets": {},
     "nuid": "d258ecdd-9910-411a-ad29-cbf6e184c1ac",
     "showTitle": false,
     "tableResultSettingsMap": {},
     "title": ""
    }
   },
   "source": [
    "##### 2-Análise profunda dos dados:"
   ]
  },
  {
   "cell_type": "code",
   "execution_count": 0,
   "metadata": {
    "application/vnd.databricks.v1+cell": {
     "cellMetadata": {
      "byteLimit": 2048000,
      "rowLimit": 10000
     },
     "inputWidgets": {},
     "nuid": "4792a08d-1376-45a7-98a5-9b217211556b",
     "showTitle": false,
     "tableResultSettingsMap": {},
     "title": ""
    }
   },
   "outputs": [
    {
     "output_type": "stream",
     "name": "stdout",
     "output_type": "stream",
     "text": [
      "       Quantity  Price Per Unit  Total Spent           dia      ano\ncount    9521.0     9467.000000       9006.0  10000.000000  10000.0\nmean   3.028463        2.949984     8.936098     15.060700   2023.0\nstd    1.419007        1.278450     5.994375      9.097136      0.0\nmin         1.0        1.000000          1.0      1.000000   2023.0\n10%         1.0        1.000000          3.0      2.000000   2023.0\n50%         3.0        3.000000          8.0     15.000000   2023.0\n90%         5.0        5.000000         20.0     28.000000   2023.0\nmax         5.0        5.000000         25.0     31.000000   2023.0\n"
     ]
    }
   ],
   "source": [
    "print(dadosloja_df4.describe(percentiles=[0.1, 0.9]))          #- Apenas colunas numericas "
   ]
  },
  {
   "cell_type": "code",
   "execution_count": 0,
   "metadata": {
    "application/vnd.databricks.v1+cell": {
     "cellMetadata": {
      "byteLimit": 2048000,
      "rowLimit": 10000
     },
     "inputWidgets": {},
     "nuid": "8bb2951c-fa14-4e7f-80ef-c414bb232868",
     "showTitle": false,
     "tableResultSettingsMap": {},
     "title": ""
    }
   },
   "outputs": [
    {
     "output_type": "display_data",
     "data": {
      "image/png": "[encoded data removed]",
      "text/plain": [
       "<Figure size 1500x500 with 3 Axes>"
      ]
     },
     "metadata": {},
     "output_type": "display_data"
    }
   ],
   "source": [
    "import matplotlib.pyplot as plt\n",
    "\n",
    "# Criar o boxplot para as colunas especificadas\n",
    "dadosloja_df4[['Quantity', 'Price Per Unit', 'Total Spent']].plot(kind='box', subplots=True, layout=(1, 3), figsize=(15, 5))\n",
    "\n",
    "# Ajustar layout e exibir o gráfico\n",
    "plt.tight_layout()\n",
    "plt.show()"
   ]
  },
  {
   "cell_type": "markdown",
   "metadata": {
    "application/vnd.databricks.v1+cell": {
     "cellMetadata": {
      "byteLimit": 2048000,
      "rowLimit": 10000
     },
     "inputWidgets": {},
     "nuid": "0f053004-ac62-4d9f-98fb-01f8947f1041",
     "showTitle": false,
     "tableResultSettingsMap": {},
     "title": ""
    },
    "jupyter": {
     "outputs_hidden": true
    }
   },
   "source": [
    "\uD83D\uDCCA Análise dos Dados (Dados Numéricos)<br/>\n",
    "\n",
    "1️⃣ **Quantity (Quantidade de itens)**\n",
    "\n",
    "O que está acontecendo?\n",
    "\n",
    "Média de 3,02, indicando que os clientes geralmente compram 3 itens por transação.<br/>\n",
    "O mínimo é 1 e o máximo 5 → não há valores zerados ou fora do padrão.<br/>\n",
    "50% (mediana) = 3, reforçando que a distribuição é centralizada nesse valor.<br/>\n",
    "90% = 5 → a maioria das compras não ultrapassa 5 itens.\n",
    "\n",
    "Insights Práticos:\n",
    "\n",
    "Clientes tendem a comprar em pequenas quantidades (1 a 5 itens).<br/>\n",
    "**Estratégias de promoções podem estimular aumento do volume por compra (ex.: leve 4 e pague 3).**\n",
    "\n",
    "Como melhorar os insights:\n",
    "\n",
    "**Segmentar clientes por faixas de quantidade comprada (ex.: pequenos compradores vs. compradores recorrentes).**\n",
    "\n",
    "Verificar se há diferença no ticket médio entre quem compra 1–2 itens e quem compra 4–5 itens.<br/><br/>\n",
    "\n",
    "2️⃣ **Price Per Unit (Preço por unidade)**\n",
    "\n",
    "O que está acontecendo?\n",
    "\n",
    "Média de 2,95, próxima da mediana (3,0), sugerindo uma distribuição equilibrada.<br/>\n",
    "Preços variam apenas de 1 a 5, mostrando consistência.<br/>\n",
    "Desvio padrão de 1,28 indica variação moderada nos preços.\n",
    "\n",
    "Insights Práticos:\n",
    "\n",
    "A maioria dos produtos está dentro de uma faixa de preço acessível.<br/>\n",
    "**Preços mais altos (4–5) podem ser analisados em relação ao volume de vendas para avaliar elasticidade.**\n",
    "\n",
    "Como melhorar os insights:\n",
    "\n",
    "**Criar faixas de preço (baixo, médio, alto) para entender sensibilidade de compra.<br/>**\n",
    "**Avaliar se produtos de maior valor têm impacto positivo no ticket médio.**\n",
    "\n",
    "3️⃣ **Total Spent (Valor total gasto por transação)**\n",
    "\n",
    "O que está acontecendo?<br/>\n",
    "Média de 8,93, mediana de 8,0, mostrando consistência.<br/>\n",
    "O mínimo é 1 e o máximo 25 → não há registros de valor zero.<br/>\n",
    "**Desvio padrão de 5,99 indica que há variação relevante entre compras pequenas e maiores.**<br/>\n",
    "90% das transações ficam até 20,0, apenas poucas chegam ao máximo (25).\n",
    "\n",
    "Insights Práticos:\n",
    "\n",
    "Grande parte das compras tem baixo valor (até 20).<br/>\n",
    "Há clientes que gastam significativamente mais, sugerindo um perfil de clientes de alto valor.<br/>\n",
    "\n",
    "Como melhorar os insights:\n",
    "\n",
    "**Criar clusters de clientes por ticket médio (baixo, médio e alto valor).**<br/>\n",
    "**Oferecer programas de fidelização para incentivar compras maiores.**<br/>\n",
    "**Cruzar esses dados com frequência de compra para identificar clientes recorrentes de alto valor.**\n",
    "\n",
    "✅ Resumo geral:<br/>\n",
    "Os dados estão limpos (sem zeros ou valores inválidos). Há consistência entre quantidade, preço e gasto total. Os principais insights vêm da segmentação de clientes por quantidade comprada, faixa de preço dos produtos e ticket médio, o que pode apoiar estratégias de marketing, promoções e fidelização."
   ]
  },
  {
   "cell_type": "code",
   "execution_count": 0,
   "metadata": {
    "application/vnd.databricks.v1+cell": {
     "cellMetadata": {
      "byteLimit": 2048000,
      "rowLimit": 10000
     },
     "inputWidgets": {},
     "nuid": "877b2906-8a60-4be8-b343-c1b2114d8f81",
     "showTitle": false,
     "tableResultSettingsMap": {},
     "title": ""
    }
   },
   "outputs": [
    {
     "output_type": "stream",
     "name": "stdout",
     "output_type": "stream",
     "text": [
      "\uD83D\uDCCA Variância:\n Quantity           2.013581\nPrice Per Unit     1.634436\nTotal Spent       35.932535\ndtype: float64 \n\n\uD83D\uDD17 Correlação:\n                 Quantity  Price Per Unit  Total Spent\nQuantity        1.000000        0.006078     0.704784\nPrice Per Unit  0.006078        1.000000     0.645720\nTotal Spent     0.704784        0.645720     1.000000\n"
     ]
    }
   ],
   "source": [
    "# CORRELAÇÃO E VARIÂNCIA NUMÉRICA\n",
    "\n",
    "# Selecionar as colunas uma vez\n",
    "colunas = ['Quantity', 'Price Per Unit', 'Total Spent']\n",
    "dados_sel = dadosloja_df4[colunas]\n",
    "\n",
    "# Calcular variância e correlação\n",
    "variancia = dados_sel.var()\n",
    "correlacao = dados_sel.corr()\n",
    "\n",
    "# Exibir resultados formatados\n",
    "print(\"\uD83D\uDCCA Variância:\\n\", variancia, \"\\n\")\n",
    "print(\"\uD83D\uDD17 Correlação:\\n\", correlacao)\n"
   ]
  },
  {
   "cell_type": "markdown",
   "metadata": {
    "application/vnd.databricks.v1+cell": {
     "cellMetadata": {
      "byteLimit": 2048000,
      "rowLimit": 10000
     },
     "inputWidgets": {},
     "nuid": "de5f40b7-b6f0-4d65-acc7-1a78fc842bbd",
     "showTitle": false,
     "tableResultSettingsMap": {},
     "title": ""
    }
   },
   "source": [
    "**Variância**<br/>\n",
    "\n",
    "\uD83D\uDD0E 1. O que está acontecendo?\n",
    "\n",
    "Quantity (2.01) → A quantidade de produtos comprados por cliente apresenta uma variação moderada. Ou seja, não é sempre o mesmo número de itens, mas também não é extremamente desigual.\n",
    "\n",
    "Price Per Unit (1.63) → Os preços unitários variam um pouco, indicando que há produtos mais caros e mais baratos, mas dentro de uma faixa relativamente controlada.\n",
    "\n",
    "Total Spent (35.93) → O gasto total tem uma variabilidade bem mais alta que as outras variáveis. Isso acontece porque ele resulta da multiplicação de quantidade × preço unitário. Pequenas variações nessas duas variáveis geram uma variação muito maior no gasto total.\n",
    "\n",
    "\uD83D\uDCA1 2. Insights Práticos\n",
    "\n",
    "O Total Spent **é o indicador mais instável: alguns clientes gastam pouco e outros gastam muito mais, mostrando perfis diferentes de consumo.**\n",
    "\n",
    "**A variação moderada em quantidade e preço** sugere que não são extremos oscilando, mas sim um conjunto de compras variadas que, combinadas, aumentam muito a dispersão no gasto.<br/>\n",
    "**Essa diferença pode indicar oportunidades de segmentação de clientes (ex: clientes de alto ticket médio vs. clientes de baixo ticket médio).**\n",
    "\n",
    "**A variância relativamente baixa em \"Price Per Unit\" sugere que a maior parte da dispersão do gasto total vem da quantidade comprada.**\n",
    "\n",
    "\uD83D\uDE80 3. Como melhorar esses insights?\n",
    "\n",
    "**Verificar outliers no Total Spent** → clientes que gastaram muito acima da média podem estar inflando a variância.\n",
    "\n",
    "**Criar grupos de clientes com base em gasto total (baixo, médio, alto) e analisar padrões de compra.**\n",
    "\n",
    "**Relacionar Quantity × Price Per Unit para entender se os maiores gastos vêm de muitos itens baratos ou de poucos itens caros.**\n",
    "\n",
    "**Comparar variância ao longo do tempo (ex: por mês ou semana) para ver se existe sazonalidade que impacta a dispersão dos gastos.**\n",
    "\n"
   ]
  },
  {
   "cell_type": "markdown",
   "metadata": {
    "application/vnd.databricks.v1+cell": {
     "cellMetadata": {
      "byteLimit": 2048000,
      "rowLimit": 10000
     },
     "inputWidgets": {},
     "nuid": "0746de3f-07b1-43cf-aba9-45969d2d7919",
     "showTitle": false,
     "tableResultSettingsMap": {},
     "title": ""
    }
   },
   "source": [
    "**Correlações Numéricas<br/>**\n",
    "\n",
    "\uD83D\uDD0E O que está acontecendo?\n",
    "\n",
    "**Quantity x Price Per Unit (0.0060)**\n",
    "\n",
    "Correlação praticamente **nula**, mostrando que o número de unidades compradas não tem relação linear com o preço unitário.<br/>\n",
    "Ou seja, os clientes não estão comprando mais ou menos em função do preço.\n",
    "\n",
    "**Quantity x Total Spent (0.7048)**\n",
    "\n",
    "Correlação forte positiva.<br/>\n",
    "Quanto maior a quantidade comprada, maior tende a ser o valor gasto total.\n",
    "\n",
    "**Price Per Unit x Total Spent (0.6457)**\n",
    "\n",
    "Correlação moderada a forte positiva.<br/>\n",
    "**Itens com preços unitários maiores puxam o total gasto para cima, mesmo sem depender da quantidade.**\n",
    "\n",
    "\uD83D\uDCA1 Insights Práticos\n",
    "\n",
    "**Quantidade impacta bastante no faturamento: ações que incentivam compra em volume (ex.: “leve 3, pague 2”) podem aumentar consideravelmente o total gasto.**\n",
    "\n",
    "Preço unitário também influencia, mas menos que a quantidade: **aumentar ticket médio pode ser feito por meio de upsell (produtos premium) ou combos que incluam itens mais caros.**\n",
    "\n",
    "**Quantidade ≠ Preço: já que não há relação entre preço e unidades compradas, há espaço para testar diferentes estratégias de precificação sem necessariamente reduzir volume de vendas.**\n",
    "\n",
    "\uD83D\uDEE0 Como melhorar esses Insights\n",
    "\n",
    "Segmentação de clientes: **verificar quais perfis gastam mais por quantidade e quais gastam mais por preço unitário.<br/>\n",
    "Analisar produtos individualmente: alguns itens podem ter comportamento diferente (ex.: café barato vs. sobremesa cara).**\n",
    "\n",
    "Testar elasticidade de preço: **simular aumentos/reduções de preço para entender até que ponto o “Price Per Unit” impacta no “Total Spent”.**\n",
    "\n",
    "Visualizar dados: **usar scatter plots (dispersão) de Quantity vs Total Spent e Price Per Unit vs Total Spent ajuda a identificar padrões mais claros, além da correlação linear.**\n",
    "\n",
    "**Incluir variáveis externas: como promoções, localização, método de pagamento, para enriquecer o entendimento do que impulsiona mais o gasto.**"
   ]
  },
  {
   "cell_type": "code",
   "execution_count": 0,
   "metadata": {
    "application/vnd.databricks.v1+cell": {
     "cellMetadata": {
      "byteLimit": 2048000,
      "rowLimit": 10000
     },
     "inputWidgets": {},
     "nuid": "a667b1f0-fe20-482e-a265-b7c2b92b2771",
     "showTitle": false,
     "tableResultSettingsMap": {},
     "title": ""
    }
   },
   "outputs": [],
   "source": [
    "\n",
    "\n",
    "import pandas as pd\n",
    "# CORRELAÇÃO CATEGÓRICA\n",
    "\n",
    "# Exemplo: transformar colunas categóricas em dummies\n",
    "dados_dummies = pd.get_dummies(dadosloja_df4[['Item','Payment Method','Location']], drop_first=True)\n",
    "# Calcular correlação\n",
    "corr_categoricas = dados_dummies.corr()\n",
    "corr_categoricas"
   ]
  },
  {
   "cell_type": "markdown",
   "metadata": {
    "application/vnd.databricks.v1+cell": {
     "cellMetadata": {
      "byteLimit": 2048000,
      "rowLimit": 10000
     },
     "inputWidgets": {},
     "nuid": "bb987bc6-6be2-4b0b-abb0-4705686410fa",
     "showTitle": false,
     "tableResultSettingsMap": {},
     "title": ""
    }
   },
   "source": [
    "**Correlação Categórica**\n",
    "\n",
    "1. O que está acontecendo?\n",
    "\n",
    "**Itens (Coffee, Cookie, Juice, etc.):**\n",
    "\n",
    "**As correlações entre eles são levemente negativas (em torno de -0,11 a -0,13).<br/>\n",
    "Isso significa que não existe um padrão forte de compra conjunta. Quando alguém compra um, tende a não levar outro ao mesmo tempo (ex.: quem compra café raramente compra suco junto).**<br/>\n",
    "\n",
    "**Métodos de pagamento:**\n",
    "\n",
    "Forte correlação negativa entre:<br/>\n",
    "Cartão de Crédito × Carteira Digital (-0,29)<br/>\n",
    "Cartão de Crédito × Não informado (-0,37)<br/>\n",
    "Carteira Digital × Não informado (-0,37)<br/>\n",
    "Isso mostra que os clientes escolhem um método dominante e dificilmente alternam entre eles.\n",
    "\n",
    "**Localização:**\n",
    "\n",
    "Local Não informado × Takeaway tem correlação fortemente negativa (-0,53).<br/>\n",
    "Ou seja, quando a localização não está informada, dificilmente é takeaway. E quando é takeaway, quase sempre a localização está registrada corretamente.\n",
    "\n",
    "**Itens vs Pagamento/Localização:**\n",
    "\n",
    "Correlações próximas de zero → não há ligação clara entre o que é comprado e como ou onde é comprado.\n",
    "\n",
    "2. Insights Práticos\n",
    "\n",
    "**Cross-sell pouco explorado<br/>\n",
    "Como os itens têm correlação negativa, há espaço para incentivar combos (ex.: Café + Cookie).<br/>\n",
    "Isso pode aumentar o ticket médio sem competir com hábitos já estabelecidos.**\n",
    "\n",
    "**Segmentação por forma de pagamento**\n",
    "\n",
    "Os clientes têm preferências claras.\n",
    "\n",
    "**Pode-se criar promoções específicas: desconto no crédito para fidelização ou cashback na carteira digital.**\n",
    "\n",
    "Localização como variável de negócio\n",
    "\n",
    "**O padrão claro de Takeaway vs Não informado mostra que o takeaway pode ser tratado como um segmento próprio, com ofertas diferenciadas (ex.: descontos para retirada rápida).**\n",
    "\n",
    "3. Como melhorar esses insights?\n",
    "\n",
    "**Adicionar variáveis de tempo (hora do dia, dia da semana, sazonalidade):<br/>\n",
    "Talvez o Café seja mais forte de manhã, o Suco à tarde, e isso pode mudar as correlações.**\n",
    "\n",
    "Ir além da correlação com análises de cestas de compra (Market Basket Analysis):\n",
    "\n",
    "Isso permite descobrir associações reais (ex.: 30% de quem compra Café leva Cookie junto), muito mais informativo do que correlação simples.\n",
    "\n",
    "**Reduzir \"Não informado\" em Pagamento e Localização:<br/>\n",
    "Preencher melhor esses dados vai mostrar padrões escondidos que hoje ficam diluídos.**\n",
    "\n",
    "**Testar promoções direcionadas:<br/>\n",
    "Oferecer pares estratégicos (ex.: “Na compra de um Suco, leve 50% em Cookie”) para ver se as correlações negativas podem virar positivas.**\n",
    "\n",
    "✅ Resumo final:\n",
    "\n",
    "**Os itens são comprados de forma independente → chance de trabalhar cross-sell.**\n",
    "\n",
    "**Pagamentos têm substituição forte → segmentar campanhas por método.**\n",
    "\n",
    "**Localização “Takeaway” é bem definida → pode ser explorada como categoria de cliente.**\n",
    "\n"
   ]
  },
  {
   "cell_type": "markdown",
   "metadata": {
    "application/vnd.databricks.v1+cell": {
     "cellMetadata": {
      "byteLimit": 2048000,
      "rowLimit": 10000
     },
     "inputWidgets": {},
     "nuid": "b86bc45d-caa3-43d9-96c0-523a3bb42d8b",
     "showTitle": false,
     "tableResultSettingsMap": {},
     "title": ""
    }
   },
   "source": []
  },
  {
   "cell_type": "markdown",
   "metadata": {
    "application/vnd.databricks.v1+cell": {
     "cellMetadata": {
      "byteLimit": 2048000,
      "rowLimit": 10000
     },
     "inputWidgets": {},
     "nuid": "46a4412d-a840-4882-9ad2-8e72bd36baf0",
     "showTitle": false,
     "tableResultSettingsMap": {},
     "title": ""
    }
   },
   "source": [
    "#### Fonte de dados:\n",
    "\n",
    "**Kaggle:**  https://www.kaggle.com/datasets/ahmedmohamed2003/cafe-sales-dirty-data-for-cleaning-training/data                "
   ]
  },
  {
   "cell_type": "markdown",
   "metadata": {
    "application/vnd.databricks.v1+cell": {
     "cellMetadata": {
      "byteLimit": 2048000,
      "rowLimit": 10000
     },
     "inputWidgets": {},
     "nuid": "4badc4a6-e7cc-4ec6-ba41-0d2e77119cf6",
     "showTitle": false,
     "tableResultSettingsMap": {},
     "title": ""
    }
   },
   "source": [
    "Licença dos dados utilizados:  https://creativecommons.org/licenses/by-sa/4.0/"
   ]
  }
 ],
 "metadata": {
  "application/vnd.databricks.v1+notebook": {
   "computePreferences": {
    "hardware": {
     "accelerator": null,
     "gpuPoolId": null,
     "memory": null
    }
   },
   "dashboards": [],
   "environmentMetadata": {
    "base_environment": "",
    "environment_version": "2"
   },
   "inputWidgetPreferences": null,
   "language": "python",
   "notebookMetadata": {
    "pythonIndentUnit": 4
   },
   "notebookName": "Last(2_09) PROJETO CAFETERIA",
   "widgets": {}
  },
  "kernelspec": {
   "display_name": "Python 3.10.7 64-bit",
   "language": "python",
   "name": "python3"
  },
  "language_info": {
   "name": "python"
  },
  "vscode": {
   "interpreter": {
    "hash": "07a25b0b96da392a52ba1f28f87d296fc9e71f97bd4b7f35a449f31df838fe08"
   }
  }
 },
 "nbformat": 4,
 "nbformat_minor": 0
}